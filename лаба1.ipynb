{
  "nbformat": 4,
  "nbformat_minor": 0,
  "metadata": {
    "colab": {
      "provenance": [],
      "authorship_tag": "ABX9TyNMhS8Nhi4SvZBJNFQg4ki3",
      "include_colab_link": true
    },
    "kernelspec": {
      "name": "python3",
      "display_name": "Python 3"
    },
    "language_info": {
      "name": "python"
    }
  },
  "cells": [
    {
      "cell_type": "markdown",
      "metadata": {
        "id": "view-in-github",
        "colab_type": "text"
      },
      "source": [
        "<a href=\"https://colab.research.google.com/github/LyapunovaUN/prog/blob/main/%D0%BB%D0%B0%D0%B1%D0%B01.ipynb\" target=\"_parent\"><img src=\"https://colab.research.google.com/assets/colab-badge.svg\" alt=\"Open In Colab\"/></a>"
      ]
    },
    {
      "cell_type": "markdown",
      "source": [
        "№1.1"
      ],
      "metadata": {
        "id": "zecce5w3s2Ym"
      }
    },
    {
      "cell_type": "code",
      "execution_count": 1,
      "metadata": {
        "id": "ptDhII-Ncm0Q",
        "colab": {
          "base_uri": "https://localhost:8080/"
        },
        "outputId": "8cb5c776-60c3-4d33-fa5b-ccfb1b2d9f98"
      },
      "outputs": [
        {
          "output_type": "stream",
          "name": "stdout",
          "text": [
            "a=2\n",
            "b=3\n",
            "5\n",
            "-1\n",
            "6\n",
            "0.67\n",
            "0\n",
            "2\n",
            "8\n",
            "True\n",
            "True\n",
            "False\n",
            "False\n",
            "True\n",
            "False\n"
          ]
        }
      ],
      "source": [
        "a = int(input(\"a =\"))\n",
        "b = int(input(\"b =\"))\n",
        "\n",
        "print(a + b)\n",
        "print(a - b)\n",
        "print(a * b)\n",
        "print(round(a / b, 2))\n",
        "print(a // b)\n",
        "print(round(a % b, 2))\n",
        "print(a ** b)\n",
        "\n",
        "print(a < b)\n",
        "print(a <= b)\n",
        "print(a > b)\n",
        "print(a >= b)\n",
        "print(a != b)\n",
        "print(a == b)"
      ]
    },
    {
      "cell_type": "markdown",
      "source": [
        "№1.2"
      ],
      "metadata": {
        "id": "sCYPQBy7sq7B"
      }
    },
    {
      "cell_type": "code",
      "source": [
        "x = int(input(\"x = \"))\n",
        "y = int(input(\"y = \"))\n",
        "z = int(input(\"z = \"))\n",
        "\n",
        "res = (((x**5+7)/(abs(-6)*y))**(1/3))/(7-(z%y))\n",
        "print(\"Результат:\", round(res, 3))"
      ],
      "metadata": {
        "id": "kcE_9dstyC8j",
        "colab": {
          "base_uri": "https://localhost:8080/"
        },
        "outputId": "56962b28-a546-449f-8104-b64d70f5db8c"
      },
      "execution_count": 1,
      "outputs": [
        {
          "output_type": "stream",
          "name": "stdout",
          "text": [
            "x = 0\n",
            "y = 1\n",
            "z = 2\n",
            "Результат: 0.15\n"
          ]
        }
      ]
    },
    {
      "cell_type": "markdown",
      "source": [
        "№1.3"
      ],
      "metadata": {
        "id": "15fXZzdBs8N7"
      }
    },
    {
      "cell_type": "code",
      "source": [
        "r1=float(input(\"Сопротивление первого проводника: \"))\n",
        "r2=float(input(\"Сопротивление второго проводника: \"))\n",
        "\n",
        "r=r1+r2\n",
        "\n",
        "print(round(r,1))\n"
      ],
      "metadata": {
        "colab": {
          "base_uri": "https://localhost:8080/"
        },
        "id": "KhppL_eIs-kM",
        "outputId": "89ae263a-f0f8-470a-91f4-c6be36a82b01"
      },
      "execution_count": null,
      "outputs": [
        {
          "output_type": "stream",
          "name": "stdout",
          "text": [
            "12.2\n",
            "16.1\n",
            "28.3\n"
          ]
        }
      ]
    },
    {
      "cell_type": "markdown",
      "source": [
        "№1.4"
      ],
      "metadata": {
        "id": "zOS43m_fs_BV"
      }
    },
    {
      "cell_type": "code",
      "source": [
        "num2 = int(input(\"Двузначное число: \"))\n",
        "num3 = int(input(\"Трехзначное число: \"))\n",
        "\n",
        "num2_1 = num2//10\n",
        "num2_2 = num2%10\n",
        "\n",
        "num2_s = num2_1 + num2_2\n",
        "num2_p = num2_1 * num2_2\n",
        "\n",
        "num3_1 = num3//100\n",
        "num3_2 = num3%100//10\n",
        "num3_3 = num3%10\n",
        "\n",
        "\n",
        "num3_s = num3_1 + num3_2 + num3_3\n",
        "num3_p = num3_1 * num3_2 * num3_3\n",
        "\n",
        "print(\"Сумма цифр двузначного числа: \", num2_s)\n",
        "print(\"Произведение цифр двузначного числа: \", num2_p)\n",
        "print(\"Сумма цифр трехзначного числа: \", num3_s)\n",
        "print(\"Произведение цифр трехзначного числа: \", num3_p)\n"
      ],
      "metadata": {
        "colab": {
          "base_uri": "https://localhost:8080/"
        },
        "id": "vUR2kQHUtAmK",
        "outputId": "ed3e9de2-99eb-4b63-cecb-dc4707d40cec"
      },
      "execution_count": null,
      "outputs": [
        {
          "output_type": "stream",
          "name": "stdout",
          "text": [
            "45\n",
            "456\n",
            "Сумма цифр двузначного числа:  9\n",
            "Произведение цифр двузначного числа:  20\n",
            "Сумма цифр трехзначного числа:  15\n",
            "Произведение цифр трехзначного числа:  120\n"
          ]
        }
      ]
    },
    {
      "cell_type": "markdown",
      "source": [
        "№1.5"
      ],
      "metadata": {
        "id": "n4815PFntBAB"
      }
    },
    {
      "cell_type": "code",
      "source": [
        "m = int(input(\"Сколько минут прошло с начала суток: \"))\n",
        "\n",
        "h = m // 60\n",
        "m2 = m % 60\n",
        "\n",
        "print(\"Количество часов, прошедших с начала суток:\", h)\n",
        "print(\"Количество минут, прошедших с момента начала последнего часа:\", m2)"
      ],
      "metadata": {
        "id": "jKkLlnZatCo1",
        "colab": {
          "base_uri": "https://localhost:8080/"
        },
        "outputId": "cf89c235-9842-4c59-a8d6-c3801b9b8e42"
      },
      "execution_count": null,
      "outputs": [
        {
          "output_type": "stream",
          "name": "stdout",
          "text": [
            "123\n",
            "Количество часов, прошедших с начала суток: 2\n",
            "Количество минут, прошедших с момента начала последнего часа: 3\n"
          ]
        }
      ]
    },
    {
      "cell_type": "markdown",
      "source": [
        "№1.6"
      ],
      "metadata": {
        "id": "5ILHJKuUtDCq"
      }
    },
    {
      "cell_type": "code",
      "source": [
        "a = int(input(\"a = \"))\n",
        "b = int(input(\"b = \"))\n",
        "m = int(input(\"m = \"))\n",
        "n = int(input(\"n = \"))\n",
        "\n",
        "x = -(b)/a\n",
        "\n",
        "is_ok = x>=m and x<=n\n",
        "\n",
        "print(\"Попадает:\", is_ok)"
      ],
      "metadata": {
        "id": "43YXJDPctFMi",
        "colab": {
          "base_uri": "https://localhost:8080/"
        },
        "outputId": "4c9e9be0-4d9e-4b9a-dfc6-3461dbbff3ec"
      },
      "execution_count": 2,
      "outputs": [
        {
          "output_type": "stream",
          "name": "stdout",
          "text": [
            "a = 1\n",
            "b = 2\n",
            "m = -5\n",
            "n = 5\n",
            "Попадает: True\n"
          ]
        }
      ]
    },
    {
      "cell_type": "markdown",
      "source": [
        "№1.7"
      ],
      "metadata": {
        "id": "SuX7gkXLtFi1"
      }
    },
    {
      "cell_type": "code",
      "source": [
        "team = input(\"Введите название команды: \")\n",
        "\n",
        "print(f\"{team} - чемпион!\")\n",
        "\n",
        "print(\"-\" * len(team))\n",
        "\n",
        "team_lowercase = team.lower()\n",
        "print(f\"Длина наименования команды - {len(team)}\")\n",
        "print(f\"Есть ли в наименовании 'п': {'п' in team}\")\n",
        "print(f\"Количество повторов 'а': {team.lower().count('а')}\")\n"
      ],
      "metadata": {
        "id": "3IlUG8OotH3U",
        "colab": {
          "base_uri": "https://localhost:8080/"
        },
        "outputId": "c86b9097-4e8d-4bfc-db2c-fd1995ba8494"
      },
      "execution_count": null,
      "outputs": [
        {
          "output_type": "stream",
          "name": "stdout",
          "text": [
            "Введите название команды: спартак\n",
            "спартак - чемпион!\n",
            "-------\n",
            "Длина наименования команды - 7\n",
            "Есть ли в наименовании 'п': True\n",
            "Количество повторов 'а': 2\n"
          ]
        }
      ]
    },
    {
      "cell_type": "markdown",
      "source": [
        "№1.8"
      ],
      "metadata": {
        "id": "OXDX-ApdtISo"
      }
    },
    {
      "cell_type": "code",
      "source": [
        "print(\"Введите название страны:\")\n",
        "country = str(input())\n",
        "print(\"Введите название столицы:\")\n",
        "capital = str(input())\n",
        "\n",
        "print(\"Государство - {}, столица - {}\".format(country, capital) )"
      ],
      "metadata": {
        "id": "kvesYf4gtKfT",
        "colab": {
          "base_uri": "https://localhost:8080/"
        },
        "outputId": "432e99af-499d-41ef-909a-6ec951e7b009"
      },
      "execution_count": 2,
      "outputs": [
        {
          "output_type": "stream",
          "name": "stdout",
          "text": [
            "Введите название страны:\n",
            "Россия\n",
            "Введите название столицы:\n",
            "Москва\n",
            "Государство - Россия, столица - Москва\n"
          ]
        }
      ]
    },
    {
      "cell_type": "markdown",
      "source": [
        "№1.9"
      ],
      "metadata": {
        "id": "VEkNIAhVtLCm"
      }
    },
    {
      "cell_type": "code",
      "source": [
        "word = \"объектно-ориентированный\"\n",
        "\n",
        "w1 = word[:6]\n",
        "w2 = word[9:17]\n",
        "w3 = word[14:17]\n",
        "w4 = word[4:15:5]\n",
        "w5 = word[10]+ word[12:15]+ word[19]\n",
        "\n",
        "\n",
        "print(w1, w2, w3, w4, w5, sep=\"\\n\")"
      ],
      "metadata": {
        "id": "kN6CLkkJtNDO",
        "colab": {
          "base_uri": "https://localhost:8080/"
        },
        "outputId": "4d5cdf9b-a79e-4079-df9f-365e0b16757d"
      },
      "execution_count": null,
      "outputs": [
        {
          "output_type": "stream",
          "name": "stdout",
          "text": [
            "объект\n",
            "ориентир\n",
            "тир\n",
            "кот\n",
            "рента\n"
          ]
        }
      ]
    },
    {
      "cell_type": "markdown",
      "source": [
        "№1.10"
      ],
      "metadata": {
        "id": "4IG1aW8atNq1"
      }
    },
    {
      "cell_type": "code",
      "source": [
        "import math\n",
        "\n",
        "\n",
        "a = []\n",
        "b = []\n",
        "\n",
        "\n",
        "a.append(4.5)\n",
        "a.append(3.4)\n",
        "\n",
        "a.extend([8.7, 1.3])\n",
        "\n",
        "b.append(14.5)\n",
        "b.append(3.4)\n",
        "\n",
        "b.extend([8.7, 11.3])\n",
        "\n",
        "\n",
        "\n",
        "a.insert(1, 100)\n",
        "a.insert(3, 100)\n",
        "\n",
        "b.insert(0, 200)\n",
        "b.insert(2, 200)\n",
        "\n",
        "\n",
        "print(\"Исходные списки:\")\n",
        "print(a)\n",
        "print(b)\n",
        "\n",
        "\n",
        "del a[0]\n",
        "del b[0]\n",
        "\n",
        "a.remove(100)\n",
        "b.remove(200)\n",
        "\n",
        "\n",
        "print(\"\\nПосле удалений:\")\n",
        "print(a)\n",
        "print(b)\n",
        "\n",
        "sa = set(a)\n",
        "sb = set(b)\n",
        "sa_and_sb = sa & sb\n",
        "\n",
        "print(\"\\nУникальные элементы:\")\n",
        "print(\"Списка а:\", sa-sb)\n",
        "print(\"Списка b:\", sb-sa)\n",
        "print(\"общие:\", sa_and_sb)\n",
        "\n",
        "c = a+b\n",
        "\n",
        "c_asc = sorted(c)\n",
        "c_desc = sorted(c,reverse=True)\n",
        "\n",
        "sr_ar = sum(c[1::2])/len(c[1::2])\n",
        "sr_geom = math.prod(c[0::2])**(1/len(c[0::2]))\n",
        "\n",
        "c_max = max(c)\n",
        "c_min = min(c)\n",
        "\n",
        "# Вывести результаты на экран\n",
        "print(\"\\nИтоговые:\")\n",
        "print(\"3-й:\", c)\n",
        "print(\"Сортировка (возр.):\", c_asc)\n",
        "print(\"Сортировка (убыв.):\", c_desc)\n",
        "print(\"Ср. арифм. = {}, ср. геометр. = {}\".format(sr_ar,sr_geom))\n",
        "print(\"Макс. и мин.:\", c_max, c_min)"
      ],
      "metadata": {
        "id": "2M6_pW8QtUGE",
        "colab": {
          "base_uri": "https://localhost:8080/"
        },
        "outputId": "143af9f0-e18c-453c-eab5-2134bbfdb2bd"
      },
      "execution_count": 1,
      "outputs": [
        {
          "output_type": "stream",
          "name": "stdout",
          "text": [
            "Исходные списки:\n",
            "[4.5, 100, 3.4, 100, 8.7, 1.3]\n",
            "[200, 14.5, 200, 3.4, 8.7, 11.3]\n",
            "\n",
            "После удалений:\n",
            "[3.4, 100, 8.7, 1.3]\n",
            "[14.5, 3.4, 8.7, 11.3]\n",
            "\n",
            "Уникальные элементы:\n",
            "Списка а: {1.3, 100}\n",
            "Списка b: {11.3, 14.5}\n",
            "общие: {8.7, 3.4}\n",
            "\n",
            "Итоговые:\n",
            "3-й: [3.4, 100, 8.7, 1.3, 14.5, 3.4, 8.7, 11.3]\n",
            "Сортировка (возр.): [1.3, 3.4, 3.4, 8.7, 8.7, 11.3, 14.5, 100]\n",
            "Сортировка (убыв.): [100, 14.5, 11.3, 8.7, 8.7, 3.4, 3.4, 1.3]\n",
            "Ср. арифм. = 29.0, ср. геометр. = 7.815762540646051\n",
            "Макс. и мин.: 100 1.3\n"
          ]
        }
      ]
    },
    {
      "cell_type": "markdown",
      "source": [
        "№1.11"
      ],
      "metadata": {
        "id": "5aX776gYtUmJ"
      }
    },
    {
      "cell_type": "code",
      "source": [
        "info = {}\n",
        "\n",
        "info[\"фио\"] = \"Ляпунова Ульяна Николаевна\"\n",
        "info[\"дата_рождения\"] = \"17.10.2007\"\n",
        "info[\"место_рождения\"] = \"Новомосковск\"\n",
        "\n",
        "print(info)\n",
        "\n",
        "info[\"хобби\"] = [\"программирование\",\"вязание\",\"рисование\"]\n",
        "\n",
        "info[\"животные\"] = (\"кот Мурзик\",\"собака Юта\",\"попугай Кеша\")\n",
        "\n",
        "info[\"ЕГЭ\"] = {}\n",
        "info[\"ЕГЭ\"][\"Математика\"] = 82\n",
        "info[\"ЕГЭ\"][\"Русский\"] = 93\n",
        "info[\"ЕГЭ\"][\"Обществознание\"] = 71\n",
        "info[\"ЕГЭ\"][\"Химия\"] = None\n",
        "info[\"ЕГЭ\"].pop(\"Химия\")\n",
        "\n",
        "info[\"вузы\"] = {}\n",
        "\n",
        "info[\"вузы\"][\"МГПУ\"] = 255\n",
        "info[\"вузы\"][\"СТАНКИН\"] = 215\n",
        "info[\"вузы\"][\"МПГУ\"] = 240\n",
        "\n",
        "print(\"Данные:\")\n",
        "print(info)\n",
        "\n",
        "\n",
        "exams = info[\"ЕГЭ\"].keys()\n",
        "print(\"Предметы:\", exams)\n",
        "uni = sorted(tuple(exams))\n",
        "print(\"Вузы:\", uni)\n",
        "\n",
        "print(\"\\nОтветы на вопросы:\")\n",
        "\n",
        "name = info[\"фио\"]\n",
        "vowels = \"аеёиоуыэюяАЕЁИОУЫЭЮЯ\"\n",
        "starts_with_vowel = info[\"фио\"].split()[1][0] in vowels\n",
        "print(\"* мое имя начинается на гласную букву:\", starts_with_vowel)\n",
        "\n",
        "month = info[\"дата_рождения\"].split(\".\")[1]\n",
        "zimailileto = [\"12\",\"01\",\"02\",\"06\",\"07\",\"08\"]\n",
        "born_in_winter_or_summer = month in zimailileto\n",
        "print(\"* родился летом или зимой:\", born_in_winter_or_summer)\n",
        "\n",
        "hobbies_count = len(info[\"хобби\"])\n",
        "print(\"* у меня {} хобби, первое \\\"{}\\\"\".format(hobbies_count, info[\"хобби\"][0]))\n",
        "\n",
        "print(\"* после окончания школы сдавал {} экз.\".format(len(info[\"ЕГЭ\"])))\n",
        "\n",
        "sum_mark = sum(info[\"ЕГЭ\"].values())\n",
        "print(\"* сумма баллов = {}\".format(sum_mark))\n",
        "\n",
        "max_mark = max(info[\"ЕГЭ\"].values())\n",
        "print(\"* макс. балл = {}\".format(max_mark))\n",
        "\n",
        "\n",
        "vuz_count = (int(sum_mark>=info[\"вузы\"][\"МГПУ\"]) + int(sum_mark>=info[\"вузы\"][\"СТАНКИН\"]) + int(sum_mark>=info[\"вузы\"][\"МПГУ\"]))\n",
        "print(\"* кол-во вузов в которые прохожу: {}\".format(vuz_count))"
      ],
      "metadata": {
        "id": "82Io4y8KtV65",
        "colab": {
          "base_uri": "https://localhost:8080/"
        },
        "outputId": "7e4014d5-da49-4063-a0b8-5a6b4e218825"
      },
      "execution_count": 3,
      "outputs": [
        {
          "output_type": "stream",
          "name": "stdout",
          "text": [
            "{'фио': 'Ляпунова Ульяна Николаевна', 'дата_рождения': '17.10.2007', 'место_рождения': 'Новомосковск'}\n",
            "Данные:\n",
            "{'фио': 'Ляпунова Ульяна Николаевна', 'дата_рождения': '17.10.2007', 'место_рождения': 'Новомосковск', 'хобби': ['программирование', 'вязание', 'рисование'], 'животные': ('кот Мурзик', 'собака Юта', 'попугай Кеша'), 'ЕГЭ': {'Математика': 82, 'Русский': 93, 'Обществознание': 71}, 'вузы': {'МГПУ': 255, 'СТАНКИН': 215, 'МПГУ': 240}}\n",
            "Предметы: dict_keys(['Математика', 'Русский', 'Обществознание'])\n",
            "Вузы: ['Математика', 'Обществознание', 'Русский']\n",
            "\n",
            "Ответы на вопросы:\n",
            "* мое имя начинается на гласную букву: True\n",
            "* родился летом или зимой: False\n",
            "* у меня 3 хобби, первое \"программирование\"\n",
            "* после окончания школы сдавал 3 экз.\n",
            "* сумма баллов = 246\n",
            "* макс. балл = 93\n",
            "* кол-во вузов в которые прохожу: 2\n"
          ]
        }
      ]
    }
  ]
}