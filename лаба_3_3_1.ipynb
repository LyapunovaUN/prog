{
  "nbformat": 4,
  "nbformat_minor": 0,
  "metadata": {
    "colab": {
      "provenance": [],
      "authorship_tag": "ABX9TyOx+VtK3dafhuhZs22Y5sm1",
      "include_colab_link": true
    },
    "kernelspec": {
      "name": "python3",
      "display_name": "Python 3"
    },
    "language_info": {
      "name": "python"
    }
  },
  "cells": [
    {
      "cell_type": "markdown",
      "metadata": {
        "id": "view-in-github",
        "colab_type": "text"
      },
      "source": [
        "<a href=\"https://colab.research.google.com/github/LyapunovaUN/prog/blob/main/%D0%BB%D0%B0%D0%B1%D0%B0_3_3_1.ipynb\" target=\"_parent\"><img src=\"https://colab.research.google.com/assets/colab-badge.svg\" alt=\"Open In Colab\"/></a>"
      ]
    },
    {
      "cell_type": "code",
      "source": [
        "#1.1\n",
        "\n",
        "class A:\n",
        "    def __init__(self):\n",
        "        self.__a = float(input())\n",
        "        self.__b = float(input())\n",
        "\n",
        "    @property\n",
        "    def c(self):\n",
        "        temp = self.__b\n",
        "        self.__b += 1\n",
        "        return self.__a - temp\n",
        "\n",
        "class Programm:\n",
        "    @staticmethod\n",
        "    def main():\n",
        "        obj = A()\n",
        "        print(f\"Значение свойства c: {round(obj.c, 2)}\")\n",
        "\n",
        "if __name__ == \"__main__\":\n",
        "    Programm.main()"
      ],
      "metadata": {
        "colab": {
          "base_uri": "https://localhost:8080/"
        },
        "id": "u5lt9k4SxzpM",
        "outputId": "97101ef0-3255-457f-95ed-e699744f75e1"
      },
      "execution_count": 12,
      "outputs": [
        {
          "output_type": "stream",
          "name": "stdout",
          "text": [
            "3.4\n",
            "1.8\n",
            "Значение свойства c: 1.6\n"
          ]
        }
      ]
    },
    {
      "cell_type": "code",
      "source": [
        "#1.2.1\n",
        "\n",
        "class Person:\n",
        "    apples = 0\n",
        "    ideas = 0\n",
        "\n",
        "johanna = Person()\n",
        "johanna.apples = 1\n",
        "johanna.ideas = 1\n",
        "\n",
        "martin = Person()\n",
        "martin.apples = 2\n",
        "martin.ideas = 1\n",
        "\n",
        "def exchange_apples(you, me):\n",
        "    temp = you.apples\n",
        "    you.apples = me.apples\n",
        "    me.apples = temp\n",
        "    return you.apples, me.apples\n",
        "\n",
        "def exchange_ideas(you, me):\n",
        "    total = you.ideas + me.ideas\n",
        "    you.ideas = total\n",
        "    me.ideas = total\n",
        "    return you.ideas, me.ideas\n",
        "\n",
        "exchange_apples(johanna, martin)\n",
        "print(\"Johanna has {} apples and Martin has {} apples\".format(johanna.apples, martin.apples))\n",
        "\n",
        "exchange_ideas(johanna, martin)\n",
        "print(\"Johanna has {} ideas and Martin has {} ideas\".format(johanna.ideas, martin.ideas))"
      ],
      "metadata": {
        "colab": {
          "base_uri": "https://localhost:8080/"
        },
        "id": "jswXyeqC0JEm",
        "outputId": "4f1fbeb5-c2cd-49cf-d3ea-7daf950d4763"
      },
      "execution_count": 13,
      "outputs": [
        {
          "output_type": "stream",
          "name": "stdout",
          "text": [
            "Johanna has 2 apples and Martin has 1 apples\n",
            "Johanna has 2 ideas and Martin has 2 ideas\n"
          ]
        }
      ]
    },
    {
      "cell_type": "code",
      "source": [
        "#1.2.2\n",
        "class City:\n",
        "    name = \"\"\n",
        "    country = \"\"\n",
        "    elevation = 0\n",
        "    population = 0\n",
        "\n",
        "# Создаём экземпляры класса City\n",
        "city1 = City()\n",
        "city1.name = \"Cusco\"\n",
        "city1.country = \"Peru\"\n",
        "city1.elevation = 3399\n",
        "city1.population = 358052\n",
        "\n",
        "city2 = City()\n",
        "city2.name = \"Sofia\"\n",
        "city2.country = \"Bulgaria\"\n",
        "city2.elevation = 2290\n",
        "city2.population = 1241675\n",
        "\n",
        "city3 = City()\n",
        "city3.name = \"Seoul\"\n",
        "city3.country = \"South Korea\"\n",
        "city3.elevation = 38\n",
        "city3.population = 9733509\n",
        "\n",
        "def max_elevation_city(min_population):\n",
        "    return_city = City()\n",
        "\n",
        "    if city1.population >= min_population and city1.elevation > return_city.elevation:\n",
        "        return_city = city1\n",
        "\n",
        "    if city2.population >= min_population and city2.elevation > return_city.elevation:\n",
        "        return_city = city2\n",
        "\n",
        "    if city3.population >= min_population and city3.elevation > return_city.elevation:\n",
        "        return_city = city3\n",
        "\n",
        "    if return_city.name:\n",
        "        return f\"{return_city.name}, {return_city.country}\"\n",
        "    else:\n",
        "        return \"\"\n",
        "\n",
        "print(max_elevation_city(100000))\n",
        "print(max_elevation_city(1000000))\n",
        "print(max_elevation_city(10000000))"
      ],
      "metadata": {
        "colab": {
          "base_uri": "https://localhost:8080/"
        },
        "id": "JHSLs9Yv1iQu",
        "outputId": "f453918f-775a-4964-bd79-9afb7a9786cc"
      },
      "execution_count": 14,
      "outputs": [
        {
          "output_type": "stream",
          "name": "stdout",
          "text": [
            "Cusco, Peru\n",
            "Sofia, Bulgaria\n",
            "\n"
          ]
        }
      ]
    },
    {
      "cell_type": "code",
      "source": [
        "#1.2.3\n",
        "class Furniture:\n",
        "    color = \"\"\n",
        "    material = \"\"\n",
        "\n",
        "table = Furniture()\n",
        "table.color = \"коричневый\"\n",
        "table.material = \"дерево\"\n",
        "\n",
        "couch = Furniture()\n",
        "couch.color = \"красный\"\n",
        "couch.material = \"кожа\"\n",
        "\n",
        "def describe_furniture(piece):\n",
        "    return \"Этот предмет мебели изготовлен из {} {}\".format(piece.color, piece.material)\n",
        "\n",
        "print(describe_furniture(table))\n",
        "\n",
        "print(describe_furniture(couch))"
      ],
      "metadata": {
        "colab": {
          "base_uri": "https://localhost:8080/"
        },
        "id": "Xw4kEdIz2iZu",
        "outputId": "73ba6f97-caf6-4df9-839d-2ffdeb06e45b"
      },
      "execution_count": 15,
      "outputs": [
        {
          "output_type": "stream",
          "name": "stdout",
          "text": [
            "Этот предмет мебели изготовлен из коричневый дерево\n",
            "Этот предмет мебели изготовлен из красный кожа\n"
          ]
        }
      ]
    },
    {
      "cell_type": "code",
      "source": [
        "#1.3.1\n",
        "class Student:\n",
        "    def set_grades(self, math, physics, programming):\n",
        "        self.math = math\n",
        "        self.physics = physics\n",
        "        self.programming = programming\n",
        "\n",
        "    def calculate_average(self):\n",
        "        return (self.math + self.physics + self.programming) / 3\n",
        "\n",
        "\n",
        "math = float(input())\n",
        "physics = float(input())\n",
        "programming = float(input())\n",
        "\n",
        "student = Student()\n",
        "student.set_grades(math, physics, programming)\n",
        "average = student.calculate_average()\n",
        "\n",
        "print(f\"Средний балл: {average:.2f}\")"
      ],
      "metadata": {
        "colab": {
          "base_uri": "https://localhost:8080/"
        },
        "id": "05SdLzIh3DS_",
        "outputId": "4ce84646-cda7-48de-eb15-f315bb7c408b"
      },
      "execution_count": 20,
      "outputs": [
        {
          "output_type": "stream",
          "name": "stdout",
          "text": [
            "5\n",
            "4\n",
            "4\n",
            "Средний балл: 4.33\n"
          ]
        }
      ]
    },
    {
      "cell_type": "code",
      "source": [
        "#1.3.1\n",
        "class Student:\n",
        "    def __init__(self, math, physics, programming):\n",
        "        self.math = math\n",
        "        self.physics = physics\n",
        "        self.programming = programming\n",
        "\n",
        "    def calculate_average(self):\n",
        "        return (self.math + self.physics + self.programming) / 3\n",
        "\n",
        "\n",
        "math = float(input())\n",
        "physics = float(input())\n",
        "programming = float(input())\n",
        "\n",
        "student = Student(math, physics, programming)\n",
        "average = student.calculate_average()\n",
        "\n",
        "print(f\"Средний балл: {average:.2f}\")"
      ],
      "metadata": {
        "colab": {
          "base_uri": "https://localhost:8080/"
        },
        "id": "rcy8_CkG3EO6",
        "outputId": "0065ac8c-af93-46e3-e837-c74dd06b611f"
      },
      "execution_count": 23,
      "outputs": [
        {
          "output_type": "stream",
          "name": "stdout",
          "text": [
            "3\n",
            "4\n",
            "5\n",
            "Средний балл: 4.00\n"
          ]
        }
      ]
    },
    {
      "cell_type": "code",
      "source": [
        "#1.3.2\n",
        "\n",
        "class Сотрудник:\n",
        "    def __init__(self, name, daily_salary):\n",
        "        self.name = name\n",
        "        self._оклад = daily_salary\n",
        "\n",
        "    def рассчитать_зарплату(self, worked_days):\n",
        "        return self._оклад * worked_days\n",
        "\n",
        "    def записать_в_файл(self, worked_days, filename=\"salary.txt\"):\n",
        "        salary = self.рассчитать_зарплату(worked_days)\n",
        "        with open(filename, \"a\", encoding=\"utf-8\") as file:\n",
        "            file.write(f\"Сотрудник: {self.name}\\n\")\n",
        "            file.write(f\"Отработано дней: {worked_days}\\n\")\n",
        "            file.write(f\"Зарплата: {salary} руб.\\n\")\n",
        "            file.write(\"-\" * 30 + \"\\n\")\n",
        "\n",
        "\n",
        "if __name__ == \"__main__\":\n",
        "    name = input(\"Введите имя сотрудника: \")\n",
        "    daily_salary = float(input(\"Введите дневной оклад: \"))\n",
        "    worked_days = int(input(\"Введите количество отработанных дней: \"))\n",
        "\n",
        "    employee = Сотрудник(name, daily_salary)\n",
        "    employee.записать_в_файл(worked_days)\n",
        "\n",
        "    print(f\"Данные о зарплате сохранены в файл 'salary.txt'\")"
      ],
      "metadata": {
        "colab": {
          "base_uri": "https://localhost:8080/"
        },
        "id": "GpHbZ6JI3EGN",
        "outputId": "d2f77025-56c3-4ce9-d2c9-697dd41b4486"
      },
      "execution_count": 48,
      "outputs": [
        {
          "output_type": "stream",
          "name": "stdout",
          "text": [
            "Введите имя сотрудника: Смирнов\n",
            "Введите дневной оклад: 2600\n",
            "Введите количество отработанных дней: 13\n",
            "Данные о зарплате сохранены в файл 'salary.txt'\n"
          ]
        }
      ]
    },
    {
      "cell_type": "code",
      "source": [
        "from google.colab import files\n",
        "files.download('salary.txt')"
      ],
      "metadata": {
        "colab": {
          "base_uri": "https://localhost:8080/",
          "height": 17
        },
        "id": "_6_J2qs96Xvv",
        "outputId": "923084a0-a3af-4afe-fbd9-d35496ef2c34"
      },
      "execution_count": 49,
      "outputs": [
        {
          "output_type": "display_data",
          "data": {
            "text/plain": [
              "<IPython.core.display.Javascript object>"
            ],
            "application/javascript": [
              "\n",
              "    async function download(id, filename, size) {\n",
              "      if (!google.colab.kernel.accessAllowed) {\n",
              "        return;\n",
              "      }\n",
              "      const div = document.createElement('div');\n",
              "      const label = document.createElement('label');\n",
              "      label.textContent = `Downloading \"${filename}\": `;\n",
              "      div.appendChild(label);\n",
              "      const progress = document.createElement('progress');\n",
              "      progress.max = size;\n",
              "      div.appendChild(progress);\n",
              "      document.body.appendChild(div);\n",
              "\n",
              "      const buffers = [];\n",
              "      let downloaded = 0;\n",
              "\n",
              "      const channel = await google.colab.kernel.comms.open(id);\n",
              "      // Send a message to notify the kernel that we're ready.\n",
              "      channel.send({})\n",
              "\n",
              "      for await (const message of channel.messages) {\n",
              "        // Send a message to notify the kernel that we're ready.\n",
              "        channel.send({})\n",
              "        if (message.buffers) {\n",
              "          for (const buffer of message.buffers) {\n",
              "            buffers.push(buffer);\n",
              "            downloaded += buffer.byteLength;\n",
              "            progress.value = downloaded;\n",
              "          }\n",
              "        }\n",
              "      }\n",
              "      const blob = new Blob(buffers, {type: 'application/binary'});\n",
              "      const a = document.createElement('a');\n",
              "      a.href = window.URL.createObjectURL(blob);\n",
              "      a.download = filename;\n",
              "      div.appendChild(a);\n",
              "      a.click();\n",
              "      div.remove();\n",
              "    }\n",
              "  "
            ]
          },
          "metadata": {}
        },
        {
          "output_type": "display_data",
          "data": {
            "text/plain": [
              "<IPython.core.display.Javascript object>"
            ],
            "application/javascript": [
              "download(\"download_e7be4adb-f722-4ddb-b16f-9b94ffcc6ecf\", \"salary.txt\", 536)"
            ]
          },
          "metadata": {}
        }
      ]
    },
    {
      "cell_type": "code",
      "source": [
        "#1.3.3\n",
        "\n",
        "import os\n",
        "\n",
        "def calculate_bonuses(input_file=\"salary.txt\", output_file=\"salary_with_bonus.txt\"):\n",
        "    try:\n",
        "        if not os.path.exists(input_file):\n",
        "            raise FileNotFoundError(f\"Файл {input_file} не найден\")\n",
        "\n",
        "        with open(input_file, 'r', encoding='utf-8') as file:\n",
        "            lines = file.readlines()\n",
        "\n",
        "        new_data = []\n",
        "        i = 0\n",
        "        while i < len(lines):\n",
        "            if lines[i].startswith(\"Сотрудник:\"):\n",
        "                name = lines[i].split(\":\")[1].strip()\n",
        "                days = int(lines[i+1].split(\":\")[1].strip())\n",
        "                salary_str = lines[i+2].split(\":\")[1].strip().split()[0]\n",
        "                salary = float(salary_str)\n",
        "\n",
        "                bonus = salary * 0.01\n",
        "\n",
        "                new_record = [\n",
        "                    f\"Сотрудник: {name}\\n\",\n",
        "                    f\"Отработано дней: {days}\\n\",\n",
        "                    f\"Зарплата: {salary:.2f} руб.\\n\",\n",
        "                    f\"Премия: {bonus:.2f} руб.\\n\",\n",
        "                    \"-\" * 40 + \"\\n\"\n",
        "                ]\n",
        "\n",
        "                new_data.extend(new_record)\n",
        "                i += 4 if \"Премия\" in lines[i+3] else 3\n",
        "            else:\n",
        "                i += 1\n",
        "\n",
        "        with open(output_file, 'w', encoding='utf-8') as file:\n",
        "            file.writelines(new_data)\n",
        "\n",
        "        print(f\"Премии начислены всем сотрудникам. Результат в {output_file}\")\n",
        "\n",
        "        if 'google.colab' in str(get_ipython()):\n",
        "            from google.colab import files\n",
        "            files.download(output_file)\n",
        "\n",
        "    except Exception as e:\n",
        "        print(f\"Ошибка: {str(e)}\")\n",
        "calculate_bonuses()"
      ],
      "metadata": {
        "colab": {
          "base_uri": "https://localhost:8080/",
          "height": 34
        },
        "id": "OyluUdpz3D8K",
        "outputId": "f2782116-93a3-49c1-87a7-2f20ad45f2ad"
      },
      "execution_count": 52,
      "outputs": [
        {
          "output_type": "stream",
          "name": "stdout",
          "text": [
            "Премии начислены всем сотрудникам. Результат в salary_with_bonus.txt\n"
          ]
        },
        {
          "output_type": "display_data",
          "data": {
            "text/plain": [
              "<IPython.core.display.Javascript object>"
            ],
            "application/javascript": [
              "\n",
              "    async function download(id, filename, size) {\n",
              "      if (!google.colab.kernel.accessAllowed) {\n",
              "        return;\n",
              "      }\n",
              "      const div = document.createElement('div');\n",
              "      const label = document.createElement('label');\n",
              "      label.textContent = `Downloading \"${filename}\": `;\n",
              "      div.appendChild(label);\n",
              "      const progress = document.createElement('progress');\n",
              "      progress.max = size;\n",
              "      div.appendChild(progress);\n",
              "      document.body.appendChild(div);\n",
              "\n",
              "      const buffers = [];\n",
              "      let downloaded = 0;\n",
              "\n",
              "      const channel = await google.colab.kernel.comms.open(id);\n",
              "      // Send a message to notify the kernel that we're ready.\n",
              "      channel.send({})\n",
              "\n",
              "      for await (const message of channel.messages) {\n",
              "        // Send a message to notify the kernel that we're ready.\n",
              "        channel.send({})\n",
              "        if (message.buffers) {\n",
              "          for (const buffer of message.buffers) {\n",
              "            buffers.push(buffer);\n",
              "            downloaded += buffer.byteLength;\n",
              "            progress.value = downloaded;\n",
              "          }\n",
              "        }\n",
              "      }\n",
              "      const blob = new Blob(buffers, {type: 'application/binary'});\n",
              "      const a = document.createElement('a');\n",
              "      a.href = window.URL.createObjectURL(blob);\n",
              "      a.download = filename;\n",
              "      div.appendChild(a);\n",
              "      a.click();\n",
              "      div.remove();\n",
              "    }\n",
              "  "
            ]
          },
          "metadata": {}
        },
        {
          "output_type": "display_data",
          "data": {
            "text/plain": [
              "<IPython.core.display.Javascript object>"
            ],
            "application/javascript": [
              "download(\"download_9465362c-9170-4a4b-95a6-b3a48f00b84d\", \"salary_with_bonus.txt\", 696)"
            ]
          },
          "metadata": {}
        }
      ]
    },
    {
      "cell_type": "code",
      "source": [
        "#1.3.4\n",
        "\n",
        "import os\n",
        "from datetime import datetime\n",
        "\n",
        "def calculate_payroll():\n",
        "    employees = []\n",
        "    total_salary = 0\n",
        "    total_bonus = 0\n",
        "\n",
        "    print(\"Расчет заработной платы\\n\" + \"=\"*40)\n",
        "\n",
        "    while True:\n",
        "        print(\"\\nВведите данные сотрудника (для завершения введите 'выход'):\")\n",
        "        name = input(\"ФИО сотрудника: \")\n",
        "        if name.lower() in ('выход', 'exit', ''):\n",
        "            break\n",
        "\n",
        "        try:\n",
        "            rate = float(input(\"Дневная ставка (руб.): \"))\n",
        "            days = int(input(\"Отработано дней: \"))\n",
        "        except ValueError:\n",
        "            print(\"Ошибка! Введите числовые значения.\")\n",
        "            continue\n",
        "\n",
        "        salary = rate * days\n",
        "        bonus = salary * 0.01\n",
        "\n",
        "        total_salary += salary\n",
        "        total_bonus += bonus\n",
        "\n",
        "        employees.append({\n",
        "            'name': name,\n",
        "            'rate': rate,\n",
        "            'days': days,\n",
        "            'salary': salary,\n",
        "            'bonus': bonus\n",
        "        })\n",
        "\n",
        "    if not employees:\n",
        "        print(\"Не введены данные сотрудников!\")\n",
        "        return\n",
        "\n",
        "    total_fund = (total_salary + total_bonus) / 0.7\n",
        "\n",
        "    os.makedirs('расчет_зп', exist_ok=True)\n",
        "    timestamp = datetime.now().strftime(\"%Y%m%d_%H%M%S\")\n",
        "    filename = f'расчет_зп/расчет_зп_{timestamp}.txt'\n",
        "\n",
        "    with open(filename, 'w', encoding='utf-8') as f:\n",
        "        f.write(\"РАСЧЕТ ЗАРПЛАТЫ И ПРЕМИЙ\\n\")\n",
        "        f.write(\"=\"*50 + \"\\n\")\n",
        "        f.write(f\"Дата расчета: {datetime.now().strftime('%d.%m.%Y %H:%M')}\\n\\n\")\n",
        "\n",
        "        for emp in employees:\n",
        "            f.write(f\"Сотрудник: {emp['name']}\\n\")\n",
        "            f.write(f\"Дневная ставка: {emp['rate']:.2f} руб.\\n\")\n",
        "            f.write(f\"Отработано дней: {emp['days']}\\n\")\n",
        "            f.write(f\"Зарплата: {emp['salary']:.2f} руб.\\n\")\n",
        "            f.write(f\"Премия (1%): {emp['bonus']:.2f} руб.\\n\")\n",
        "            f.write(\"-\"*50 + \"\\n\")\n",
        "\n",
        "        f.write(\"\\nИТОГО:\\n\")\n",
        "        f.write(f\"Общая зарплата: {total_salary:.2f} руб.\\n\")\n",
        "        f.write(f\"Общая премия: {total_bonus:.2f} руб.\\n\")\n",
        "        f.write(f\"Общий фонд заработной платы: {total_fund:.2f} руб.\\n\")\n",
        "\n",
        "    print(\"\\nРезультаты успешно сохранены в файл:\")\n",
        "    print(os.path.abspath(filename))\n",
        "\n",
        "    if 'google.colab' in str(get_ipython()):\n",
        "        from google.colab import files\n",
        "        files.download(filename)\n",
        "        print(\"Файл доступен для скачивания\")\n",
        "\n",
        "if __name__ == \"__main__\":\n",
        "    calculate_payroll()"
      ],
      "metadata": {
        "colab": {
          "base_uri": "https://localhost:8080/",
          "height": 260
        },
        "id": "VZhqoeamE4bi",
        "outputId": "c9198de2-5f06-4097-d765-068a2347b9ab"
      },
      "execution_count": 54,
      "outputs": [
        {
          "output_type": "stream",
          "name": "stdout",
          "text": [
            "Расчет заработной платы\n",
            "========================================\n",
            "\n",
            "Введите данные сотрудника (для завершения введите 'выход'):\n",
            "ФИО сотрудника: ьнт етнв нт\n",
            "Дневная ставка (руб.): 2355 \n",
            "Отработано дней: 12\n",
            "\n",
            "Введите данные сотрудника (для завершения введите 'выход'):\n",
            "ФИО сотрудника: выход\n",
            "\n",
            "Результаты успешно сохранены в файл:\n",
            "/content/расчет_зп/расчет_зп_20250515_175256.txt\n"
          ]
        },
        {
          "output_type": "display_data",
          "data": {
            "text/plain": [
              "<IPython.core.display.Javascript object>"
            ],
            "application/javascript": [
              "\n",
              "    async function download(id, filename, size) {\n",
              "      if (!google.colab.kernel.accessAllowed) {\n",
              "        return;\n",
              "      }\n",
              "      const div = document.createElement('div');\n",
              "      const label = document.createElement('label');\n",
              "      label.textContent = `Downloading \"${filename}\": `;\n",
              "      div.appendChild(label);\n",
              "      const progress = document.createElement('progress');\n",
              "      progress.max = size;\n",
              "      div.appendChild(progress);\n",
              "      document.body.appendChild(div);\n",
              "\n",
              "      const buffers = [];\n",
              "      let downloaded = 0;\n",
              "\n",
              "      const channel = await google.colab.kernel.comms.open(id);\n",
              "      // Send a message to notify the kernel that we're ready.\n",
              "      channel.send({})\n",
              "\n",
              "      for await (const message of channel.messages) {\n",
              "        // Send a message to notify the kernel that we're ready.\n",
              "        channel.send({})\n",
              "        if (message.buffers) {\n",
              "          for (const buffer of message.buffers) {\n",
              "            buffers.push(buffer);\n",
              "            downloaded += buffer.byteLength;\n",
              "            progress.value = downloaded;\n",
              "          }\n",
              "        }\n",
              "      }\n",
              "      const blob = new Blob(buffers, {type: 'application/binary'});\n",
              "      const a = document.createElement('a');\n",
              "      a.href = window.URL.createObjectURL(blob);\n",
              "      a.download = filename;\n",
              "      div.appendChild(a);\n",
              "      a.click();\n",
              "      div.remove();\n",
              "    }\n",
              "  "
            ]
          },
          "metadata": {}
        },
        {
          "output_type": "display_data",
          "data": {
            "text/plain": [
              "<IPython.core.display.Javascript object>"
            ],
            "application/javascript": [
              "download(\"download_284bd0c3-beb3-4210-b49a-60e7ad776f42\", \"\\u0440\\u0430\\u0441\\u0447\\u0435\\u0442_\\u0437\\u043f_20250515_175256.txt\", 549)"
            ]
          },
          "metadata": {}
        },
        {
          "output_type": "stream",
          "name": "stdout",
          "text": [
            "Файл доступен для скачивания\n"
          ]
        }
      ]
    },
    {
      "cell_type": "code",
      "source": [
        "#1.3.5\n",
        "\n",
        "class InverseDivision:\n",
        "    def __init__(self, value):\n",
        "        self.value = value\n",
        "\n",
        "    def __truediv__(self, other):\n",
        "        try:\n",
        "            return other.value / self.value\n",
        "        except ZeroDivisionError:\n",
        "            return \"Ошибка: деление на ноль\"\n",
        "        except AttributeError:\n",
        "            return \"Ошибка: деление возможно только между объектами InverseDivision\"\n",
        "\n",
        "    def __floordiv__(self, other):\n",
        "        try:\n",
        "            return other.value // self.value\n",
        "        except ZeroDivisionError:\n",
        "            return \"Ошибка: деление на ноль\"\n",
        "        except AttributeError:\n",
        "            return \"Ошибка: деление возможно только между объектами InverseDivision\"\n",
        "\n",
        "    def __mod__(self, other):\n",
        "        try:\n",
        "            return other.value % self.value\n",
        "        except ZeroDivisionError:\n",
        "            return \"Ошибка: деление на ноль\"\n",
        "        except AttributeError:\n",
        "            return \"Ошибка: деление возможно только между объектами InverseDivision\"\n",
        "\n",
        "if __name__ == \"__main__\":\n",
        "    print(\"Программа с обратным делением\")\n",
        "    print(\"(числитель и знаменатель меняются местами)\")\n",
        "    print(\"=\" * 40)\n",
        "\n",
        "    try:\n",
        "        a = float(input(\"Введите первое число (будет знаменателем): \"))\n",
        "        b = float(input(\"Введите второе число (будет числителем): \"))\n",
        "\n",
        "        num1 = InverseDivision(a)\n",
        "        num2 = InverseDivision(b)\n",
        "\n",
        "        print(f\"\\nОбычное деление: {num1 / num2}\")\n",
        "        print(f\"Целочисленное деление: {num1 // num2}\")\n",
        "        print(f\"Остаток от деления: {num1 % num2}\")\n",
        "\n",
        "    except ValueError:\n",
        "        print(\"Ошибка: введите числа корректно\")\n",
        "    except Exception as e:\n",
        "        print(f\"Неизвестная ошибка: {str(e)}\")"
      ],
      "metadata": {
        "colab": {
          "base_uri": "https://localhost:8080/"
        },
        "id": "33JmUBhhFdnn",
        "outputId": "77a42109-046f-4724-e742-d1d4d31e53b1"
      },
      "execution_count": 56,
      "outputs": [
        {
          "output_type": "stream",
          "name": "stdout",
          "text": [
            "Программа с обратным делением\n",
            "(числитель и знаменатель меняются местами)\n",
            "========================================\n",
            "Введите первое число (будет знаменателем): 12\n",
            "Введите второе число (будет числителем): 3\n",
            "\n",
            "Обычное деление: 0.25\n",
            "Целочисленное деление: 0.0\n",
            "Остаток от деления: 3.0\n"
          ]
        }
      ]
    }
  ]
}