{
  "nbformat": 4,
  "nbformat_minor": 0,
  "metadata": {
    "colab": {
      "provenance": [],
      "authorship_tag": "ABX9TyMC0JAm5gCb0yDalycE9lwk",
      "include_colab_link": true
    },
    "kernelspec": {
      "name": "python3",
      "display_name": "Python 3"
    },
    "language_info": {
      "name": "python"
    }
  },
  "cells": [
    {
      "cell_type": "markdown",
      "metadata": {
        "id": "view-in-github",
        "colab_type": "text"
      },
      "source": [
        "<a href=\"https://colab.research.google.com/github/LyapunovaUN/prog/blob/main/%D0%B0%D0%BB%D0%B31_3.ipynb\" target=\"_parent\"><img src=\"https://colab.research.google.com/assets/colab-badge.svg\" alt=\"Open In Colab\"/></a>"
      ]
    },
    {
      "cell_type": "code",
      "execution_count": 2,
      "metadata": {
        "colab": {
          "base_uri": "https://localhost:8080/"
        },
        "id": "HVAoF8Gjo226",
        "outputId": "f9f690a7-cab6-402b-850d-248cf91ebaa4"
      },
      "outputs": [
        {
          "output_type": "stream",
          "name": "stdout",
          "text": [
            "5\n",
            "32\n"
          ]
        }
      ],
      "source": [
        "#10\n",
        "\n",
        "def exp(a):\n",
        "  if a == 0:\n",
        "    return 1\n",
        "  else:\n",
        "    return 2 * exp(a-1)\n",
        "\n",
        "\n",
        "a = int(input())\n",
        "\n",
        "print(exp(a))"
      ]
    }
  ]
}