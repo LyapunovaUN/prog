{
  "nbformat": 4,
  "nbformat_minor": 0,
  "metadata": {
    "colab": {
      "provenance": [],
      "authorship_tag": "ABX9TyNV+Ax2XObyfdIGLGUbmL1q",
      "include_colab_link": true
    },
    "kernelspec": {
      "name": "python3",
      "display_name": "Python 3"
    },
    "language_info": {
      "name": "python"
    }
  },
  "cells": [
    {
      "cell_type": "markdown",
      "metadata": {
        "id": "view-in-github",
        "colab_type": "text"
      },
      "source": [
        "<a href=\"https://colab.research.google.com/github/LyapunovaUN/prog/blob/main/%D0%B0%D0%BB%D0%B31_3.ipynb\" target=\"_parent\"><img src=\"https://colab.research.google.com/assets/colab-badge.svg\" alt=\"Open In Colab\"/></a>"
      ]
    },
    {
      "cell_type": "code",
      "execution_count": 2,
      "metadata": {
        "colab": {
          "base_uri": "https://localhost:8080/"
        },
        "id": "HVAoF8Gjo226",
        "outputId": "f9f690a7-cab6-402b-850d-248cf91ebaa4"
      },
      "outputs": [
        {
          "output_type": "stream",
          "name": "stdout",
          "text": [
            "5\n",
            "32\n"
          ]
        }
      ],
      "source": [
        "#10\n",
        "\n",
        "def exp(a):\n",
        "  if a == 0:\n",
        "    return 1\n",
        "  else:\n",
        "    return 2 * exp(a-1)\n",
        "\n",
        "\n",
        "a = int(input())\n",
        "\n",
        "print(exp(a))"
      ]
    },
    {
      "cell_type": "markdown",
      "source": [
        "Оценка сложности алгоритма:\n",
        "Временная сложность данного рекурсивного алгоритма составляет O(b), где\n",
        "b — показатель степени. Это связано с тем, что функция вызывает себя рекурсивно\n",
        "b раз."
      ],
      "metadata": {
        "id": "mnEQXsG_vOc4"
      }
    }
  ]
}