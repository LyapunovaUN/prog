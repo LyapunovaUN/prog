{
  "nbformat": 4,
  "nbformat_minor": 0,
  "metadata": {
    "colab": {
      "provenance": [],
      "authorship_tag": "ABX9TyPRFLQ/fJ1Sx7Ah8Qf57GNF",
      "include_colab_link": true
    },
    "kernelspec": {
      "name": "python3",
      "display_name": "Python 3"
    },
    "language_info": {
      "name": "python"
    }
  },
  "cells": [
    {
      "cell_type": "markdown",
      "metadata": {
        "id": "view-in-github",
        "colab_type": "text"
      },
      "source": [
        "<a href=\"https://colab.research.google.com/github/LyapunovaUN/prog/blob/main/%D0%B0%D0%BB%D0%B331.ipynb\" target=\"_parent\"><img src=\"https://colab.research.google.com/assets/colab-badge.svg\" alt=\"Open In Colab\"/></a>"
      ]
    },
    {
      "cell_type": "code",
      "source": [
        "import random\n",
        "\n",
        "# 1. Бинарный поиск\n",
        "def binary_search(arr, target):\n",
        "    left, right = 0, len(arr) - 1\n",
        "    while left <= right:\n",
        "        mid = (left + right) // 2\n",
        "        if arr[mid] == target:\n",
        "            return mid\n",
        "        elif arr[mid] < target:\n",
        "            left = mid + 1\n",
        "        else:\n",
        "            right = mid - 1\n",
        "    return -1\n",
        "\n",
        "# 2. Сортировка прямым выбором\n",
        "def selection_sort(arr):\n",
        "    for i in range(len(arr)):\n",
        "        min_idx = i\n",
        "        for j in range(i + 1, len(arr)):\n",
        "            if arr[j] < arr[min_idx]:\n",
        "                min_idx = j\n",
        "        arr[i], arr[min_idx] = arr[min_idx], arr[i]\n",
        "    return arr\n",
        "\n",
        "# 3. Сортировка Шелла\n",
        "def shell_sort(arr):\n",
        "    n = len(arr)\n",
        "    gap = n // 2\n",
        "    while gap > 0:\n",
        "        for i in range(gap, n):\n",
        "            temp = arr[i]\n",
        "            j = i\n",
        "            while j >= gap and arr[j - gap] > temp:\n",
        "                arr[j] = arr[j - gap]\n",
        "                j -= gap\n",
        "            arr[j] = temp\n",
        "        gap //= 2\n",
        "    return arr\n",
        "\n",
        "if __name__ == \"__main__\":\n",
        "    random.seed(42)\n",
        "    numbers = [random.randint(0, 1000) for _ in range(20)]\n",
        "    sorted_numbers = sorted(numbers.copy())\n",
        "\n",
        "    try:\n",
        "        target = int(input(\"Введите число: \"))\n",
        "        if target < 0 or target > 1000:\n",
        "            print(\"Ошибка: число должно быть в диапазоне от 0 до 1000\")\n",
        "        else:\n",
        "            print(\"\\n1. Бинарный поиск:\")\n",
        "            index = binary_search(sorted_numbers, target)\n",
        "            if index != -1:\n",
        "                print(f\"Число {target} найдено на позиции {index}\")\n",
        "            else:\n",
        "                print(f\"Число {target} не найдено в массиве\")\n",
        "    except ValueError:\n",
        "        print(\"Ошибка: введите целое число\")\n",
        "\n",
        "    print(\"\\n2. Сортировка прямым выбором:\")\n",
        "    print(\"Исходный массив:\", numbers)\n",
        "    selection_sorted = selection_sort(numbers.copy())\n",
        "    print(\"Отсортированный массив:\", selection_sorted)\n",
        "\n",
        "    print(\"\\n3. Сортировка Шелла:\")\n",
        "    print(\"Исходный массив:\", numbers)\n",
        "    shell_sorted = shell_sort(numbers.copy())\n",
        "    print(\"Отсортированный массив:\", shell_sorted)"
      ],
      "metadata": {
        "colab": {
          "base_uri": "https://localhost:8080/"
        },
        "id": "aubfYI9rPhBi",
        "outputId": "bd2367e0-ccc8-450f-92e3-c6a9de14a25e"
      },
      "execution_count": null,
      "outputs": [
        {
          "output_type": "stream",
          "name": "stdout",
          "text": [
            "Введите число: 888\n",
            "\n",
            "1. Бинарный поиск:\n",
            "Число 888 не найдено в массиве\n",
            "\n",
            "2. Сортировка прямым выбором:\n",
            "Исходный массив: [654, 114, 25, 759, 281, 250, 228, 142, 754, 104, 692, 758, 913, 558, 89, 604, 432, 32, 30, 95]\n",
            "Отсортированный массив: [25, 30, 32, 89, 95, 104, 114, 142, 228, 250, 281, 432, 558, 604, 654, 692, 754, 758, 759, 913]\n",
            "\n",
            "3. Сортировка Шелла:\n",
            "Исходный массив: [654, 114, 25, 759, 281, 250, 228, 142, 754, 104, 692, 758, 913, 558, 89, 604, 432, 32, 30, 95]\n",
            "Отсортированный массив: [25, 30, 32, 89, 95, 104, 114, 142, 228, 250, 281, 432, 558, 604, 654, 692, 754, 758, 759, 913]\n"
          ]
        }
      ]
    }
  ]
}