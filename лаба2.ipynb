{
  "nbformat": 4,
  "nbformat_minor": 0,
  "metadata": {
    "colab": {
      "provenance": [],
      "authorship_tag": "ABX9TyMR0wHTPN7vAwcn3xVSZfi6",
      "include_colab_link": true
    },
    "kernelspec": {
      "name": "python3",
      "display_name": "Python 3"
    },
    "language_info": {
      "name": "python"
    }
  },
  "cells": [
    {
      "cell_type": "markdown",
      "metadata": {
        "id": "view-in-github",
        "colab_type": "text"
      },
      "source": [
        "<a href=\"https://colab.research.google.com/github/LyapunovaUN/prog/blob/main/%D0%BB%D0%B0%D0%B1%D0%B02.ipynb\" target=\"_parent\"><img src=\"https://colab.research.google.com/assets/colab-badge.svg\" alt=\"Open In Colab\"/></a>"
      ]
    },
    {
      "cell_type": "markdown",
      "source": [
        "№1"
      ],
      "metadata": {
        "id": "Ku5QkZUMDX1J"
      }
    },
    {
      "cell_type": "code",
      "source": [
        "x = int(input())\n",
        "\n",
        "if x >= 0:\n",
        "    f = x ** 0.5 + x**2\n",
        "else:\n",
        "    f = 1 / x\n",
        "\n",
        "print(round(f,2))\n"
      ],
      "metadata": {
        "colab": {
          "base_uri": "https://localhost:8080/"
        },
        "id": "pmhA2f9KDeYL",
        "outputId": "fd89211f-cc0b-4d4c-8347-46f0cc2ea6b4"
      },
      "execution_count": null,
      "outputs": [
        {
          "output_type": "stream",
          "name": "stdout",
          "text": [
            "10\n",
            "103.16\n"
          ]
        }
      ]
    },
    {
      "cell_type": "markdown",
      "source": [
        "№2"
      ],
      "metadata": {
        "id": "u4VrX0RaDe3J"
      }
    },
    {
      "cell_type": "code",
      "source": [
        "print(\"Введите первое число:\")\n",
        "a1 = int(input())\n",
        "print(\"Введите второе число:\")\n",
        "a2 = int(input())\n",
        "\n",
        "if a1>a2:\n",
        "  a_min = a2\n",
        "  a_max = a1\n",
        "else:\n",
        "  a_min = a1\n",
        "  a_max = a2\n",
        "\n",
        "print(\"Максимум {}, минимум {}\".format(a_max, a_min))"
      ],
      "metadata": {
        "id": "u5m5UyShDfPe",
        "colab": {
          "base_uri": "https://localhost:8080/"
        },
        "outputId": "efcefd02-17c0-4175-ff1b-69b38d153306"
      },
      "execution_count": 1,
      "outputs": [
        {
          "output_type": "stream",
          "name": "stdout",
          "text": [
            "Введите первое число:\n",
            "5\n",
            "Введите второе число:\n",
            "5\n",
            "Максимум 5, минимум 5\n"
          ]
        }
      ]
    },
    {
      "cell_type": "markdown",
      "source": [
        "№3"
      ],
      "metadata": {
        "id": "HwLiD5znDfop"
      }
    },
    {
      "cell_type": "code",
      "source": [
        "a = int(input())\n",
        "b = int(input())\n",
        "d = int(input())\n",
        "\n",
        "if a > 0 and b > 0 and d > 0:\n",
        "    fix = 1\n",
        "    if a >= d + fix and b >= d + fix:\n",
        "      print(\"Да\")\n",
        "    else:\n",
        "      print(\"Нет\")\n",
        "else:\n",
        "    print(\"Проверьте ввод\")"
      ],
      "metadata": {
        "colab": {
          "base_uri": "https://localhost:8080/"
        },
        "id": "dRfrTbBeDgEs",
        "outputId": "da16a595-51c6-49c0-e6b5-ad3efcc79e44"
      },
      "execution_count": null,
      "outputs": [
        {
          "output_type": "stream",
          "name": "stdout",
          "text": [
            "6\n",
            "7\n",
            "4\n",
            "Да\n"
          ]
        }
      ]
    },
    {
      "cell_type": "markdown",
      "source": [
        "№4"
      ],
      "metadata": {
        "id": "EonYLrh8Dg32"
      }
    },
    {
      "cell_type": "code",
      "source": [
        "print(\"Введите текущий год:\")\n",
        "year_today = int(input())\n",
        "print(\"Введите текущий месяц:\")\n",
        "month_today = int(input())\n",
        "\n",
        "print(\"Введите год рождения:\")\n",
        "year = int(input())\n",
        "print(\"Введите месяц рождения:\")\n",
        "month = int(input())\n",
        "\n",
        "age = year_today - year\n",
        "\n",
        "print(\"Число полных лет: \", age)"
      ],
      "metadata": {
        "id": "mdUEuUprDhPL",
        "colab": {
          "base_uri": "https://localhost:8080/"
        },
        "outputId": "49ba9b26-192a-4397-8676-2b63ff122fe2"
      },
      "execution_count": 2,
      "outputs": [
        {
          "output_type": "stream",
          "name": "stdout",
          "text": [
            "Введите текущий год:\n",
            "2017\n",
            "Введите текущий месяц:\n",
            "5\n",
            "Введите год рождения:\n",
            "2000\n",
            "Введите месяц рождения:\n",
            "1\n",
            "Число полных лет:  17\n"
          ]
        }
      ]
    },
    {
      "cell_type": "markdown",
      "source": [
        "№5"
      ],
      "metadata": {
        "id": "akOiOoXDDhiE"
      }
    },
    {
      "cell_type": "code",
      "source": [
        "x = int(input())\n",
        "y = int(input())\n",
        "if x > 0 and y > 0:\n",
        "    print(\"1-я четверть\")\n",
        "elif x < 0 and y > 0:\n",
        "  print(\"2-я четверть\")\n",
        "elif x < 0 and y < 0:\n",
        "  print(\"3-я четверть\")\n",
        "elif x > 0 and y < 0:\n",
        "  print(\"4-я четверть\")"
      ],
      "metadata": {
        "colab": {
          "base_uri": "https://localhost:8080/"
        },
        "id": "AtDMhyuyDh7Z",
        "outputId": "e090c8e2-3188-4f41-9484-eddb3aecb2f5"
      },
      "execution_count": null,
      "outputs": [
        {
          "output_type": "stream",
          "name": "stdout",
          "text": [
            "5\n",
            "7\n",
            "1-я четверть\n"
          ]
        }
      ]
    },
    {
      "cell_type": "markdown",
      "source": [
        "№6"
      ],
      "metadata": {
        "id": "7mFSp3IqDiS0"
      }
    },
    {
      "cell_type": "code",
      "source": [
        "a = float(input())\n",
        "b = float(input())\n",
        "c = float(input())\n",
        "\n",
        "D = b**2 - 4*a*c\n",
        "\n",
        "if D < 0:\n",
        "    print(\"Решений нет\")\n",
        "elif D == 0:\n",
        "    x = (-b) / (2*a)\n",
        "    print(f\"x = {x:.1f}\")\n",
        "else:\n",
        "    x1 = (-b + D**0.5) / (2*a)\n",
        "    x2 = (-b - D**0.5) / (2*a)\n",
        "    print(f\"x1 = {x1:.1f}, x2 = {x2:.1f}\")\n"
      ],
      "metadata": {
        "id": "__16LFmkDiwX",
        "colab": {
          "base_uri": "https://localhost:8080/"
        },
        "outputId": "37845ce0-ccc2-4841-9bd3-389faf98ac2c"
      },
      "execution_count": 3,
      "outputs": [
        {
          "output_type": "stream",
          "name": "stdout",
          "text": [
            "1\n",
            "2\n",
            "3\n",
            "Решений нет\n"
          ]
        }
      ]
    },
    {
      "cell_type": "markdown",
      "source": [
        "№7"
      ],
      "metadata": {
        "id": "7fLcvGovDjHp"
      }
    },
    {
      "cell_type": "code",
      "source": [
        "nums_sum = 0\n",
        "nums_count = 0\n",
        "x = int(input())\n",
        "while x != 0:\n",
        "    nums_sum += x\n",
        "    nums_count += 1\n",
        "    x = int(input())\n",
        "print(nums_sum)\n",
        "print(nums_count)"
      ],
      "metadata": {
        "colab": {
          "base_uri": "https://localhost:8080/"
        },
        "id": "4zPxWgIJDjtx",
        "outputId": "978d400b-bd34-4764-84ac-17fd7c028fe2"
      },
      "execution_count": null,
      "outputs": [
        {
          "output_type": "stream",
          "name": "stdout",
          "text": [
            "4\n",
            "3\n",
            "2\n",
            "1\n",
            "0\n",
            "10\n",
            "4\n"
          ]
        }
      ]
    },
    {
      "cell_type": "markdown",
      "source": [
        "№8"
      ],
      "metadata": {
        "id": "aYTt96-aDkG-"
      }
    },
    {
      "cell_type": "code",
      "source": [
        "n = int(input())\n",
        "\n",
        "print(f\"n = {n}\")\n",
        "\n",
        "x = 0\n",
        "while x <= n:\n",
        "    print(x)\n",
        "    x += 5\n"
      ],
      "metadata": {
        "id": "hIyGCoVWDkc1",
        "colab": {
          "base_uri": "https://localhost:8080/"
        },
        "outputId": "ccff7b1c-7543-48d5-eea1-0c3e1e9fdeb2"
      },
      "execution_count": 4,
      "outputs": [
        {
          "output_type": "stream",
          "name": "stdout",
          "text": [
            "10\n",
            "n = 10\n",
            "0\n",
            "5\n",
            "10\n"
          ]
        }
      ]
    },
    {
      "cell_type": "markdown",
      "source": [
        "№9"
      ],
      "metadata": {
        "id": "04nN5PMjDkzd"
      }
    },
    {
      "cell_type": "code",
      "source": [
        "a = float(input())\n",
        "n=0\n",
        "x_sum = 0\n",
        "while x_sum <= a:\n",
        "  n+=1\n",
        "  x_sum = x_sum + 1/n\n",
        "print(n)"
      ],
      "metadata": {
        "colab": {
          "base_uri": "https://localhost:8080/"
        },
        "id": "87O9upaaDlJl",
        "outputId": "67063882-e974-4064-eb2e-89935ae8de87"
      },
      "execution_count": null,
      "outputs": [
        {
          "output_type": "stream",
          "name": "stdout",
          "text": [
            "2\n",
            "4\n"
          ]
        }
      ]
    },
    {
      "cell_type": "markdown",
      "source": [
        "№10"
      ],
      "metadata": {
        "id": "FWtm8MgqDlut"
      }
    },
    {
      "cell_type": "code",
      "source": [
        "n = int(input())\n",
        "n1 = n\n",
        "summa = 0\n",
        "kolvo = 0\n",
        "\n",
        "if n == 0:\n",
        "    kolvo = 1\n",
        "else:\n",
        "    while n > 0:\n",
        "        x = n % 10\n",
        "        summa += x\n",
        "        kolvo += 1\n",
        "        n = n // 10\n",
        "\n",
        "\n",
        "print(f\"n = {n1}\")\n",
        "print(f\"Сумма = {summa}\")\n",
        "print(f\"Количество = {kolvo}\")\n"
      ],
      "metadata": {
        "id": "8oK4X2uWDmFD",
        "colab": {
          "base_uri": "https://localhost:8080/"
        },
        "outputId": "f3570f2a-1bc7-4acb-c7df-922ce3116dcd"
      },
      "execution_count": 5,
      "outputs": [
        {
          "output_type": "stream",
          "name": "stdout",
          "text": [
            "12345\n",
            "n = 12345\n",
            "Сумма = 15\n",
            "Количество = 5\n"
          ]
        }
      ]
    },
    {
      "cell_type": "markdown",
      "source": [
        "№11"
      ],
      "metadata": {
        "id": "Rf-kUDXIDmZv"
      }
    },
    {
      "cell_type": "code",
      "source": [
        "start = int(input())\n",
        "k = int(input())\n",
        "s = int(input())\n",
        "n_count = 0\n",
        "number = start\n",
        "\n",
        "result = []\n",
        "\n",
        "while n_count < 10:\n",
        "  if number % s == 0 and number % 10 == k:\n",
        "      result.append(number)\n",
        "      n_count += 1\n",
        "  number += 1\n",
        "\n",
        "print(result)"
      ],
      "metadata": {
        "colab": {
          "base_uri": "https://localhost:8080/"
        },
        "id": "vrx7BYaGUfM4",
        "outputId": "f7675da0-8d0a-4c7a-d5b8-7413c81cf976"
      },
      "execution_count": 50,
      "outputs": [
        {
          "output_type": "stream",
          "name": "stdout",
          "text": [
            "100\n",
            "7\n",
            "9\n",
            "[117, 207, 297, 387, 477, 567, 657, 747, 837, 927]\n"
          ]
        }
      ]
    },
    {
      "cell_type": "markdown",
      "source": [
        "№12"
      ],
      "metadata": {
        "id": "5fwNhF_zDnDB"
      }
    },
    {
      "cell_type": "code",
      "source": [
        "a = int(input())\n",
        "b = int(input())\n",
        "\n",
        "print(f\"a = {a}\")\n",
        "print(f\"b = {b}\")\n",
        "\n",
        "start = min(a, b)\n",
        "end = max(a, b)\n",
        "\n",
        "numbers = []\n",
        "current = start\n",
        "while current <= end:\n",
        "    numbers.append(str(current))\n",
        "    current += 1\n",
        "print(\" \".join(numbers))\n",
        "\n",
        "current = end\n",
        "while current >= start:\n",
        "    print(current)\n",
        "    current -= 1\n",
        ""
      ],
      "metadata": {
        "id": "EsH0-dUVDncK",
        "colab": {
          "base_uri": "https://localhost:8080/"
        },
        "outputId": "09036bf3-0ad5-4b9b-a142-ce644ae79aea"
      },
      "execution_count": 6,
      "outputs": [
        {
          "output_type": "stream",
          "name": "stdout",
          "text": [
            "1\n",
            "5\n",
            "a = 1\n",
            "b = 5\n",
            "1 2 3 4 5\n",
            "5\n",
            "4\n",
            "3\n",
            "2\n",
            "1\n"
          ]
        }
      ]
    },
    {
      "cell_type": "markdown",
      "source": [
        "№13"
      ],
      "metadata": {
        "id": "zcPdUl2uDnz5"
      }
    },
    {
      "cell_type": "code",
      "source": [
        "a = int(input())\n",
        "b = int(input())\n",
        "n_sum = 0\n",
        "n_mult = 1\n",
        "g = 1\n",
        "count = 0\n",
        "count_g = 0\n",
        "for i in range (a,b+1):\n",
        "  n_sum += i\n",
        "  n_mult *= i\n",
        "  count +=1\n",
        "  if i % 2 != 0:\n",
        "    g *= i\n",
        "    count_g +=1\n",
        "n_avg = round(n_sum/count,2)\n",
        "n_avg_geom = round((g ** (1/count_g)),2)\n",
        "print(\"Сумма =\", n_sum)\n",
        "print(\"Произведение =\", n_mult)\n",
        "print(\"Среднее арифметическое = {}\".format(n_avg))\n",
        "print(\"Среднее геометрическое нечетных чисел = {}\".format(n_avg_geom))\n"
      ],
      "metadata": {
        "colab": {
          "base_uri": "https://localhost:8080/"
        },
        "id": "FxWQJNxvDoOL",
        "outputId": "b5d40720-93de-423d-e9ed-9cac70ee5f4b"
      },
      "execution_count": null,
      "outputs": [
        {
          "output_type": "stream",
          "name": "stdout",
          "text": [
            "1\n",
            "5\n",
            "Сумма = 15\n",
            "Произведение = 120\n",
            "Среднее арифметическое = 3.0\n",
            "Среднее геометрическое нечетных чисел = 2.47\n"
          ]
        }
      ]
    },
    {
      "cell_type": "markdown",
      "source": [
        "№14"
      ],
      "metadata": {
        "id": "IxLc012FDozN"
      }
    },
    {
      "cell_type": "code",
      "source": [
        "s = float(input())\n",
        "p = float(input())\n",
        "\n",
        "total = s\n",
        "current = s\n",
        "\n",
        "print(f\"Пробег за 1-й день (км.) = {s}\")\n",
        "print(f\"На сколько увеличивает пробег (%) = {p}\")\n",
        "\n",
        "for day in range(2, 11):\n",
        "    current *= (1 + p / 100)\n",
        "    total += current\n",
        "    print(f\"Пробег за {day}-й день: {current:.1f} км.\")\n",
        "\n",
        "print(\"Суммарный пробег: {:.1f} км.\".format(total))"
      ],
      "metadata": {
        "id": "_S_3PvkqDpIn",
        "colab": {
          "base_uri": "https://localhost:8080/"
        },
        "outputId": "8583f583-08a6-4ad3-fb5f-cb1d8d39397f"
      },
      "execution_count": 7,
      "outputs": [
        {
          "output_type": "stream",
          "name": "stdout",
          "text": [
            "5\n",
            "10\n",
            "Пробег за 1-й день (км.) = 5.0\n",
            "На сколько увеличивает пробег (%) = 10.0\n",
            "Пробег за 2-й день: 5.5 км.\n",
            "Пробег за 3-й день: 6.1 км.\n",
            "Пробег за 4-й день: 6.7 км.\n",
            "Пробег за 5-й день: 7.3 км.\n",
            "Пробег за 6-й день: 8.1 км.\n",
            "Пробег за 7-й день: 8.9 км.\n",
            "Пробег за 8-й день: 9.7 км.\n",
            "Пробег за 9-й день: 10.7 км.\n",
            "Пробег за 10-й день: 11.8 км.\n",
            "Суммарный пробег: 79.7 км.\n"
          ]
        }
      ]
    },
    {
      "cell_type": "markdown",
      "source": [
        "№15"
      ],
      "metadata": {
        "id": "mwbzsvfpDpcX"
      }
    },
    {
      "cell_type": "code",
      "source": [
        "p = int(input())\n",
        "n = int (input())\n",
        "total = 0\n",
        "while n!=0:\n",
        "    k=int(input())\n",
        "    n-=1\n",
        "    total=total+k\n",
        "if total<=p:\n",
        "  print(\"Да\")\n",
        "else:\n",
        "  print(\"Нет\")"
      ],
      "metadata": {
        "colab": {
          "base_uri": "https://localhost:8080/"
        },
        "id": "yl4QyD8VDpzR",
        "outputId": "14ddaf99-0aac-4d7e-c01e-e42f1998a2f9"
      },
      "execution_count": null,
      "outputs": [
        {
          "output_type": "stream",
          "name": "stdout",
          "text": [
            "10\n",
            "2\n",
            "3\n",
            "3\n",
            "Да\n"
          ]
        }
      ]
    },
    {
      "cell_type": "markdown",
      "source": [
        "№16"
      ],
      "metadata": {
        "id": "KMd_kqvMDqJs"
      }
    },
    {
      "cell_type": "code",
      "source": [
        "n = int(input(\"Количество районов = \"))\n",
        "\n",
        "total = 0.0\n",
        "\n",
        "for i in range(n):\n",
        "    area = float(input(f\"Площадь {i+1}-го района (га) = \"))\n",
        "    uroj = float(input(f\"Урожайность в {i+1}-м районе (ц/га.) = \"))\n",
        "    total += area * uroj\n",
        "\n",
        "print(f\"Собрано пшеницы: {total:.1f} ц.\")"
      ],
      "metadata": {
        "id": "UQBqDdJ7DquE",
        "colab": {
          "base_uri": "https://localhost:8080/"
        },
        "outputId": "9f74aa4c-c07b-4c2a-994d-06843d7fd124"
      },
      "execution_count": 8,
      "outputs": [
        {
          "output_type": "stream",
          "name": "stdout",
          "text": [
            "Количество районов = 3\n",
            "Площадь 1-го района (га) = 4\n",
            "Урожайность в 1-м районе (ц/га.) = 2\n",
            "Площадь 2-го района (га) = 7\n",
            "Урожайность в 2-м районе (ц/га.) = 3\n",
            "Площадь 3-го района (га) = 9\n",
            "Урожайность в 3-м районе (ц/га.) = 4\n",
            "Собрано пшеницы: 65.0 ц.\n"
          ]
        }
      ]
    },
    {
      "cell_type": "markdown",
      "source": [
        "№17"
      ],
      "metadata": {
        "id": "32pso2EUEDJH"
      }
    },
    {
      "cell_type": "code",
      "source": [
        "nums_sum = 0\n",
        "nums_count = 0\n",
        "while True:\n",
        "  x = int(input())\n",
        "  if x == 0:\n",
        "    break\n",
        "  nums_sum += x\n",
        "  nums_count += 1\n",
        "print(nums_sum)\n",
        "print(nums_count)"
      ],
      "metadata": {
        "colab": {
          "base_uri": "https://localhost:8080/"
        },
        "id": "8lZA-sCTEDiT",
        "outputId": "7e0acc02-6118-4740-f0b9-b4a3eea9d410"
      },
      "execution_count": null,
      "outputs": [
        {
          "output_type": "stream",
          "name": "stdout",
          "text": [
            "4\n",
            "3\n",
            "2\n",
            "1\n",
            "0\n",
            "10\n",
            "4\n"
          ]
        }
      ]
    },
    {
      "cell_type": "markdown",
      "source": [
        "№18"
      ],
      "metadata": {
        "id": "JU2wAnKCED18"
      }
    },
    {
      "cell_type": "code",
      "source": [
        "sentence = input(\"Введите предложение: \").lower()\n",
        "\n",
        "count_gl = 0\n",
        "count_sogl = 0\n",
        "\n",
        "gl_letters = {'а', 'е', 'ё', 'и', 'о', 'у', 'ы', 'э', 'ю', 'я'}\n",
        "\n",
        "for char in sentence:\n",
        "    if char == ' ':\n",
        "        continue\n",
        "    if char in gl_letters:\n",
        "        count_gl += 1\n",
        "    else:\n",
        "        count_sogl += 1\n",
        "\n",
        "print(f\"Кол-во букв в предложении: гласных - {count_gl}, согласных - {count_sogl}\")"
      ],
      "metadata": {
        "id": "tTHkydDAEEOD",
        "colab": {
          "base_uri": "https://localhost:8080/"
        },
        "outputId": "24fb2a6f-6b8f-4ee5-a0c7-345f3f12da16"
      },
      "execution_count": 9,
      "outputs": [
        {
          "output_type": "stream",
          "name": "stdout",
          "text": [
            "Введите предложение: программирование\n",
            "Кол-во букв в предложении: гласных - 7, согласных - 9\n"
          ]
        }
      ]
    },
    {
      "cell_type": "markdown",
      "source": [
        "№19"
      ],
      "metadata": {
        "id": "EDHfu6jFEEiM"
      }
    },
    {
      "cell_type": "code",
      "source": [
        "a = int(input())\n",
        "b = int(input())\n",
        "c = int(input())\n",
        "s=[]\n",
        "for i in range (a,b+1):\n",
        "  if i % c == 0:\n",
        "    s.append(i)\n",
        "print(' '.join(map(str,s)))\n",
        "\n"
      ],
      "metadata": {
        "colab": {
          "base_uri": "https://localhost:8080/"
        },
        "id": "6DqIaagNEE4o",
        "outputId": "3bb96d09-b3dd-4467-e539-02f9554cda88"
      },
      "execution_count": null,
      "outputs": [
        {
          "output_type": "stream",
          "name": "stdout",
          "text": [
            "1\n",
            "10\n",
            "2\n",
            "2 4 6 8 10\n"
          ]
        }
      ]
    },
    {
      "cell_type": "markdown",
      "source": [
        "№20"
      ],
      "metadata": {
        "id": "kKMvuh4eEFNC"
      }
    },
    {
      "cell_type": "code",
      "source": [
        "n = int(input())\n",
        "print(f\"n = {n}\")\n",
        "\n",
        "for num in range(100, 1000):\n",
        "    a = num // 100\n",
        "    b = (num // 10) % 10\n",
        "    c = num % 10\n",
        "    if a + b + c == n:\n",
        "        print(num, end=' ')\n",
        ""
      ],
      "metadata": {
        "id": "1ROEWL28EFq0",
        "colab": {
          "base_uri": "https://localhost:8080/"
        },
        "outputId": "d6a56e89-6897-4bf2-c0d8-09dea08646c1"
      },
      "execution_count": 10,
      "outputs": [
        {
          "output_type": "stream",
          "name": "stdout",
          "text": [
            "3\n",
            "n = 3\n",
            "102 111 120 201 210 300 "
          ]
        }
      ]
    },
    {
      "cell_type": "markdown",
      "source": [
        "№21"
      ],
      "metadata": {
        "id": "4lCW0df-EGRG"
      }
    },
    {
      "cell_type": "code",
      "source": [
        "n = int(input())\n",
        "\n",
        "r_sr_m = 0.0\n",
        "r_sr_d = 0.0\n",
        "\n",
        "m=0\n",
        "d=0\n",
        "m_count=0\n",
        "d_count=0\n",
        "\n",
        "while n!=0:\n",
        "  r = int(input())\n",
        "  n-=1\n",
        "  if r<0:\n",
        "    m-=r\n",
        "    m_count+=1\n",
        "  else:\n",
        "    d+=r\n",
        "    d_count+=1\n",
        "\n",
        "r_sr_m = m/m_count\n",
        "r_sr_d = d/d_count\n",
        "\n",
        "print(\"Средний рост мальчиков: {:.1f}\".format(r_sr_m))\n",
        "print(\"Средний рост девочек: {:.1f}\".format(r_sr_d))\n"
      ],
      "metadata": {
        "colab": {
          "base_uri": "https://localhost:8080/"
        },
        "id": "PQVXJ6OsEGmT",
        "outputId": "2a51bbc4-f955-4d66-a060-8f4aacd6e7b3"
      },
      "execution_count": null,
      "outputs": [
        {
          "output_type": "stream",
          "name": "stdout",
          "text": [
            "5\n",
            "150\n",
            "-150\n",
            "160\n",
            "170\n",
            "180\n",
            "Средний рост мальчиков: 150.0\n",
            "Средний рост девочек: 165.0\n"
          ]
        }
      ]
    },
    {
      "cell_type": "markdown",
      "source": [
        "№22"
      ],
      "metadata": {
        "id": "9Qmi6-63EG4p"
      }
    },
    {
      "cell_type": "code",
      "source": [
        "n = int(input())\n",
        "print(f\"n = {n}\")\n",
        "\n",
        "a_max = None\n",
        "a_min = None\n",
        "\n",
        "for i in range(n):\n",
        "    num = float(input(f\"{i+1}-е число = \"))\n",
        "    if a_max is None or num > a_max:\n",
        "        a_max = num\n",
        "    if a_min is None or num < a_min:\n",
        "        a_min = num\n",
        "\n",
        "print(\"Максимум: {:.2f}\".format(a_max))\n",
        "print(\"Минимум: {:.2f}\".format(a_min))\n",
        "\n"
      ],
      "metadata": {
        "id": "vmd3d6alEHex",
        "colab": {
          "base_uri": "https://localhost:8080/"
        },
        "outputId": "1977f719-32fd-4a80-f350-b51a32324afd"
      },
      "execution_count": 11,
      "outputs": [
        {
          "output_type": "stream",
          "name": "stdout",
          "text": [
            "4\n",
            "n = 4\n",
            "1-е число = 6.2\n",
            "2-е число = 3.8\n",
            "3-е число = 1.1\n",
            "4-е число = 9.66\n",
            "Максимум: 9.66\n",
            "Минимум: 1.10\n"
          ]
        }
      ]
    },
    {
      "cell_type": "markdown",
      "source": [
        "№23"
      ],
      "metadata": {
        "id": "4EcxPTwJEH3T"
      }
    },
    {
      "cell_type": "code",
      "source": [
        "n = int(input())\n",
        "a, b = 0, 1\n",
        "w = 0\n",
        "for _ in range(n):\n",
        "     a, b = b, a + b\n",
        "     if n == b:\n",
        "      w = 1\n",
        "if w == 1:\n",
        "  print(\"Является\")\n",
        "else:\n",
        "  print (\"Не является\")\n"
      ],
      "metadata": {
        "id": "mZmEIul0EIOd",
        "colab": {
          "base_uri": "https://localhost:8080/"
        },
        "outputId": "2c6e96c4-7331-4369-fc0e-aef4c5e0082b"
      },
      "execution_count": 42,
      "outputs": [
        {
          "output_type": "stream",
          "name": "stdout",
          "text": [
            "7\n",
            "Не является\n"
          ]
        }
      ]
    },
    {
      "cell_type": "markdown",
      "source": [
        "№24"
      ],
      "metadata": {
        "id": "bNS-xiYzEIiS"
      }
    },
    {
      "cell_type": "code",
      "source": [
        "n = int(input(\"n = \"))\n",
        "\n",
        "index = -1\n",
        "\n",
        "prev = float(input(\"1-е число = \"))\n",
        "for i in range(2, n + 1):\n",
        "    current = float(input(f\"{i}-е число = \"))\n",
        "    if current <= prev:\n",
        "        index = i\n",
        "        break\n",
        "    prev = current\n",
        "\n",
        "if index == -1:\n",
        "    print(\"Является\")\n",
        "else:\n",
        "    print(index)\n",
        ""
      ],
      "metadata": {
        "id": "6nNHJcwGEI-p",
        "colab": {
          "base_uri": "https://localhost:8080/"
        },
        "outputId": "ca1b839e-2882-4aac-d122-f8e3da076eb1"
      },
      "execution_count": 12,
      "outputs": [
        {
          "output_type": "stream",
          "name": "stdout",
          "text": [
            "n = 3\n",
            "1-е число = 3\n",
            "2-е число = 3\n",
            "2\n"
          ]
        }
      ]
    },
    {
      "cell_type": "markdown",
      "source": [
        "№25"
      ],
      "metadata": {
        "id": "tYPsrCX5EUlt"
      }
    },
    {
      "cell_type": "code",
      "source": [
        "n = int(input())\n",
        "for i in range(1, n + 1):\n",
        "  for j in range(1, n + 1):\n",
        "    print(f\"{i} x {j} = {i * j}\", end=\"\\t\")\n",
        "  print()"
      ],
      "metadata": {
        "colab": {
          "base_uri": "https://localhost:8080/"
        },
        "id": "Fs8YUtVgEWEK",
        "outputId": "d5026c13-e19f-4c82-8711-7d7660b2ef61"
      },
      "execution_count": 59,
      "outputs": [
        {
          "output_type": "stream",
          "name": "stdout",
          "text": [
            "5\n",
            "1 x 1 = 1\t1 x 2 = 2\t1 x 3 = 3\t1 x 4 = 4\t1 x 5 = 5\t\n",
            "2 x 1 = 2\t2 x 2 = 4\t2 x 3 = 6\t2 x 4 = 8\t2 x 5 = 10\t\n",
            "3 x 1 = 3\t3 x 2 = 6\t3 x 3 = 9\t3 x 4 = 12\t3 x 5 = 15\t\n",
            "4 x 1 = 4\t4 x 2 = 8\t4 x 3 = 12\t4 x 4 = 16\t4 x 5 = 20\t\n",
            "5 x 1 = 5\t5 x 2 = 10\t5 x 3 = 15\t5 x 4 = 20\t5 x 5 = 25\t\n"
          ]
        }
      ]
    },
    {
      "cell_type": "markdown",
      "source": [
        "№26"
      ],
      "metadata": {
        "id": "KdPs_BhVEWgv"
      }
    },
    {
      "cell_type": "code",
      "source": [
        "n = int(input(\"n = \"))\n",
        "\n",
        "for num in range(1, n + 1):\n",
        "    count = 0\n",
        "    for i in range(1, num + 1):\n",
        "        if num % i == 0:\n",
        "            count += 1\n",
        "    print(f\"{num} {'*' * count}\")"
      ],
      "metadata": {
        "id": "wavn_uu4EXc0",
        "colab": {
          "base_uri": "https://localhost:8080/"
        },
        "outputId": "2baf2320-551e-4f23-f482-13056da58b88"
      },
      "execution_count": 13,
      "outputs": [
        {
          "output_type": "stream",
          "name": "stdout",
          "text": [
            "n = 10\n",
            "1 *\n",
            "2 **\n",
            "3 **\n",
            "4 ***\n",
            "5 **\n",
            "6 ****\n",
            "7 **\n",
            "8 ****\n",
            "9 ***\n",
            "10 ****\n"
          ]
        }
      ]
    },
    {
      "cell_type": "markdown",
      "source": [
        "№27"
      ],
      "metadata": {
        "id": "SZDyoy0wEX2H"
      }
    },
    {
      "cell_type": "code",
      "source": [
        "p=2\n",
        "count = 0\n",
        "n = int(input())\n",
        "while count < n:\n",
        "  if all(p % j != 0 for j in range(2, p)):\n",
        "    print(p,end=\" \")\n",
        "    count += 1\n",
        "  p+=1\n",
        "\n",
        "\n"
      ],
      "metadata": {
        "id": "EgzHpjIjEYtg",
        "colab": {
          "base_uri": "https://localhost:8080/"
        },
        "outputId": "e32b9db6-5ffd-499e-a309-1705d94c7618"
      },
      "execution_count": 56,
      "outputs": [
        {
          "output_type": "stream",
          "name": "stdout",
          "text": [
            "10\n",
            "2 3 5 7 11 13 17 19 23 29 "
          ]
        }
      ]
    },
    {
      "cell_type": "markdown",
      "source": [
        "№28"
      ],
      "metadata": {
        "id": "1tpTJTe5EZcr"
      }
    },
    {
      "cell_type": "code",
      "source": [
        "k = int(input(\"k = \"))\n",
        "\n",
        "for x in range(1, 31):\n",
        "    for y in range(1, 31):\n",
        "        for z in range(1, 31):\n",
        "            if x**2 + y**2 + z**2 == k**2:\n",
        "                print(f\"x = {x}, y = {y}, z = {z}\")\n",
        ""
      ],
      "metadata": {
        "id": "79Ei5Ss9EajF",
        "colab": {
          "base_uri": "https://localhost:8080/"
        },
        "outputId": "cb720a99-c105-423c-8286-27093d3e3ac2"
      },
      "execution_count": 14,
      "outputs": [
        {
          "output_type": "stream",
          "name": "stdout",
          "text": [
            "k = 30\n",
            "x = 4, y = 10, z = 28\n",
            "x = 4, y = 20, z = 22\n",
            "x = 4, y = 22, z = 20\n",
            "x = 4, y = 28, z = 10\n",
            "x = 10, y = 4, z = 28\n",
            "x = 10, y = 20, z = 20\n",
            "x = 10, y = 28, z = 4\n",
            "x = 20, y = 4, z = 22\n",
            "x = 20, y = 10, z = 20\n",
            "x = 20, y = 20, z = 10\n",
            "x = 20, y = 22, z = 4\n",
            "x = 22, y = 4, z = 20\n",
            "x = 22, y = 20, z = 4\n",
            "x = 28, y = 4, z = 10\n",
            "x = 28, y = 10, z = 4\n"
          ]
        }
      ]
    },
    {
      "cell_type": "markdown",
      "source": [
        "№29"
      ],
      "metadata": {
        "id": "PAOsLNFcEa9G"
      }
    },
    {
      "cell_type": "code",
      "source": [
        "n = int(input(\"n = \"))\n",
        "\n",
        "nums = []\n",
        "while n != 0:\n",
        "   a = float(input())\n",
        "   nums.append(a)\n",
        "   n -= 1\n",
        "\n",
        "nums_pos = [a for a in nums if a > 0]\n",
        "nums_neg = []\n",
        "for a in nums:\n",
        "  if a < 0:\n",
        "    nums_neg.append(a)\n",
        "\n",
        "p=1\n",
        "sr_ar = (sum(nums_pos)/len(nums_pos))\n",
        "for a in nums_neg:\n",
        "  p*=a\n",
        "sr_geom = p**(1/len(nums_neg))\n",
        "\n",
        "print(nums)\n",
        "print(nums_pos)\n",
        "print(nums_neg)\n",
        "print(round(sr_ar,2))\n",
        "print(round(sr_geom,2))"
      ],
      "metadata": {
        "colab": {
          "base_uri": "https://localhost:8080/"
        },
        "id": "qiHxApHqEb5L",
        "outputId": "5dc3cd67-4fcc-4cf3-823e-b71ed31a7615"
      },
      "execution_count": null,
      "outputs": [
        {
          "output_type": "stream",
          "name": "stdout",
          "text": [
            "n = 4\n",
            "1\n",
            "6\n",
            "-10\n",
            "-3\n",
            "[1.0, 6.0, -10.0, -3.0]\n",
            "[1.0, 6.0]\n",
            "[-10.0, -3.0]\n",
            "3.5\n",
            "5.48\n"
          ]
        }
      ]
    },
    {
      "cell_type": "markdown",
      "source": [
        "№30"
      ],
      "metadata": {
        "id": "U_1kH3mVEcQp"
      }
    },
    {
      "cell_type": "code",
      "source": [
        "nums = [int(item) for item in input().split()]\n",
        "\n",
        "all_pos_1 = True\n",
        "for item in nums:\n",
        "    if item <= 0:\n",
        "        all_pos_1 = False\n",
        "        break\n",
        "\n",
        "all_pos_2 = all(item > 0 for item in nums)\n",
        "\n",
        "any_zero_1 = False\n",
        "for item in nums:\n",
        "    if item == 0:\n",
        "        any_zero_1 = True\n",
        "        break\n",
        "\n",
        "any_zero_2 = any(item == 0 for item in nums)\n",
        "\n",
        "all_even_1 = True\n",
        "for item in nums:\n",
        "    if item % 2 != 0:\n",
        "        all_even_1 = False\n",
        "        break\n",
        "\n",
        "all_even_2 = all(item % 2 == 0 for item in nums)\n",
        "\n",
        "any_odd_1 = False\n",
        "for item in nums:\n",
        "    if item % 2 != 0:\n",
        "        any_odd_1 = True\n",
        "        break\n",
        "\n",
        "any_odd_2 = any(item % 2 != 0 for item in nums)\n",
        "\n",
        "print(\"Все положительные:\", all_pos_1, all_pos_2)\n",
        "print(\"Хотя бы 1 нулевой элемент:\", any_zero_1, any_zero_2)\n",
        "print(\"Все четные:\", all_even_1, all_even_2)\n",
        "print(\"Хотя бы 1 нечетный элемент:\", any_odd_1, any_odd_2)\n",
        ""
      ],
      "metadata": {
        "id": "nP8xrHNjEdQU",
        "colab": {
          "base_uri": "https://localhost:8080/"
        },
        "outputId": "f60313f9-b8b6-4ceb-a4dc-edd94f58befd"
      },
      "execution_count": 15,
      "outputs": [
        {
          "output_type": "stream",
          "name": "stdout",
          "text": [
            "-1 1 100 0\n",
            "Все положительные: False False\n",
            "Хотя бы 1 нулевой элемент: True True\n",
            "Все четные: False False\n",
            "Хотя бы 1 нечетный элемент: True True\n"
          ]
        }
      ]
    },
    {
      "cell_type": "markdown",
      "source": [
        "№31"
      ],
      "metadata": {
        "id": "TVcMV2xPEd0Q"
      }
    },
    {
      "cell_type": "code",
      "source": [
        "s = str(input())\n",
        "k = str(input())\n",
        "\n",
        "words = s.split( )\n",
        "words1 = [words for words in words if k not in words]\n",
        "print(' '.join(map(str, words1)))"
      ],
      "metadata": {
        "colab": {
          "base_uri": "https://localhost:8080/"
        },
        "id": "vGzCVwNUEexc",
        "outputId": "4b4e3d31-21f0-4fd4-f492-849a748e780c"
      },
      "execution_count": null,
      "outputs": [
        {
          "output_type": "stream",
          "name": "stdout",
          "text": [
            "мама мыла раму\n",
            "р\n",
            "мама мыла\n"
          ]
        }
      ]
    },
    {
      "cell_type": "markdown",
      "source": [
        "№32"
      ],
      "metadata": {
        "id": "CK0PDWEZEfK2"
      }
    },
    {
      "cell_type": "code",
      "source": [
        "n = int(input(\"Количество рядов = \"))\n",
        "\n",
        "seats = []\n",
        "for i in range(n):\n",
        "    row = [int(item) for item in input().split()]\n",
        "    seats.append(row)\n",
        "\n",
        "count = sum(row.count(0) for row in seats)\n",
        "print(f\"Всего свободных мест: {count}\")\n",
        "\n",
        "n_p, m_p = [int(item) for item in input(\"Введите ряд и место через пробел: \").split()]\n",
        "n_p -= 1\n",
        "m_p -= 1\n",
        "\n",
        "if (n_p < 0 or n_p >= len(seats)) or (m_p < 0 or m_p >= len(seats[n_p])):\n",
        "    print(\"Такого места не существует\")\n",
        "else:\n",
        "    is_free = seats[n_p][m_p] == 0\n",
        "    print(f\"Место свободно: {is_free}\")"
      ],
      "metadata": {
        "id": "FoTEiIfIEgAn",
        "colab": {
          "base_uri": "https://localhost:8080/"
        },
        "outputId": "c4839c48-6c03-46cf-826d-fd4df3a1d6d2"
      },
      "execution_count": 16,
      "outputs": [
        {
          "output_type": "stream",
          "name": "stdout",
          "text": [
            "Количество рядов = 3\n",
            "0 0 0 \n",
            "1 1 1 \n",
            "0 0 0 0 1\n",
            "Всего свободных мест: 7\n",
            "Введите ряд и место через пробел: 1 1 \n",
            "Место свободно: True\n"
          ]
        }
      ]
    },
    {
      "cell_type": "markdown",
      "source": [
        "№33"
      ],
      "metadata": {
        "id": "zHHfXeUBEgUQ"
      }
    },
    {
      "cell_type": "code",
      "source": [
        "n = int(input())\n",
        "employees = []\n",
        "while n != 0:\n",
        "  e = input().split( )\n",
        "  n-=1\n",
        "  e[4] = int(e[4])\n",
        "  employees.append(e)\n",
        "\n",
        "sort = sorted(employees, key = lambda x: x[4])\n",
        "employee_min = sort[0]\n",
        "employee_max = sort[-1]\n",
        "print(\"Cамый \\\"молодой\\\": {}\".format(\" \".join(employee_min[:3])))\n",
        "print(\"Cамый \\\"старый\\\": {}\".format(\" \".join(employee_max[:3])))\n",
        "\n",
        "men = [emp for emp in employees if emp[3] == \"М\"]\n",
        "women = [emp for emp in employees if emp[3] == \"Ж\"]\n",
        "\n",
        "k = str(input())\n",
        "\n",
        "men_k_count = sum(1 for emp in men if emp[1].lower().startswith(k))\n",
        "women_k_count = sum(1 for emp in women if emp[1].lower().startswith(k))\n",
        "\n",
        "if men_k_count < women_k_count:\n",
        "  print(\"У женщин таких имен больше\")\n",
        "elif men_k_count > women_k_count:\n",
        "  print(\"У мужчин таких имен больше\")\n",
        "else:\n",
        "  print(\"Таких имен поровну у мужчин и женщин\")"
      ],
      "metadata": {
        "colab": {
          "base_uri": "https://localhost:8080/"
        },
        "id": "SpkPWXo5EhFG",
        "outputId": "51ae98f0-c2a2-47d1-b8e0-c2befa8697c2"
      },
      "execution_count": null,
      "outputs": [
        {
          "output_type": "stream",
          "name": "stdout",
          "text": [
            "3\n",
            "Петрова Анна Алексеевна Ж 5\n",
            "Семенов Николай Михайлович М 2\n",
            "Михайлов Игорь Васильевич М 3\n",
            "Cамый \"молодой\": Семенов Николай Михайлович\n",
            "Cамый \"старый\": Петрова Анна Алексеевна\n",
            "а\n",
            "У женщин таких имен больше\n"
          ]
        }
      ]
    },
    {
      "cell_type": "markdown",
      "source": [
        "№34"
      ],
      "metadata": {
        "id": "R3X2dYsuEhXn"
      }
    },
    {
      "cell_type": "code",
      "source": [
        "n = int(input(\"Количество банков = \"))\n",
        "\n",
        "deposits = []\n",
        "for _ in range(n):\n",
        "    bank_info = input().split()\n",
        "    deposits.append({\n",
        "        \"name\": bank_info[0],\n",
        "        \"initial_sum\": int(bank_info[1]),\n",
        "        \"rate\": float(bank_info[2])})\n",
        "\n",
        "# 2. Самый доступный банк\n",
        "min_bank = min(deposits, key=lambda x: x[\"initial_sum\"])\n",
        "\n",
        "# 3. Самый выгодный банк\n",
        "max_profit_bank = max(deposits, key=lambda x: x[\"initial_sum\"] * x[\"rate\"] / 100)\n",
        "max_profit = max_profit_bank[\"initial_sum\"] * max_profit_bank[\"rate\"] / 100\n",
        "\n",
        "print(f\"Самый доступный банк: {min_bank['name']}, первоначальная сумма: {min_bank['initial_sum']:.2f} руб.\")\n",
        "print(f\"Самый выгодный банк: {max_profit_bank['name']}, прибыль: {max_profit:.2f} руб.\")"
      ],
      "metadata": {
        "id": "OtJEEQKPEiY5",
        "colab": {
          "base_uri": "https://localhost:8080/"
        },
        "outputId": "96cdf1bd-8ad8-435e-93bf-fe7bcb3699a4"
      },
      "execution_count": 18,
      "outputs": [
        {
          "output_type": "stream",
          "name": "stdout",
          "text": [
            "Количество банков = 3\n",
            "первый 50000 5.2\n",
            "второй 20000 3.7\n",
            "третий 45000 6.8\n",
            "Самый доступный банк: второй, первоначальная сумма: 20000.00 руб.\n",
            "Самый выгодный банк: третий, прибыль: 3060.00 руб.\n"
          ]
        }
      ]
    }
  ]
}