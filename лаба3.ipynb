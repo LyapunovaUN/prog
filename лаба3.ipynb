{
  "nbformat": 4,
  "nbformat_minor": 0,
  "metadata": {
    "colab": {
      "provenance": [],
      "authorship_tag": "ABX9TyOuVN41xOQOIHCOjlbo0I79",
      "include_colab_link": true
    },
    "kernelspec": {
      "name": "python3",
      "display_name": "Python 3"
    },
    "language_info": {
      "name": "python"
    }
  },
  "cells": [
    {
      "cell_type": "markdown",
      "metadata": {
        "id": "view-in-github",
        "colab_type": "text"
      },
      "source": [
        "<a href=\"https://colab.research.google.com/github/LyapunovaUN/prog/blob/main/%D0%BB%D0%B0%D0%B1%D0%B03.ipynb\" target=\"_parent\"><img src=\"https://colab.research.google.com/assets/colab-badge.svg\" alt=\"Open In Colab\"/></a>"
      ]
    },
    {
      "cell_type": "markdown",
      "source": [
        "№1"
      ],
      "metadata": {
        "id": "EL0bbIpaUbHR"
      }
    },
    {
      "cell_type": "code",
      "execution_count": null,
      "metadata": {
        "id": "niWPqNEVUSHI",
        "colab": {
          "base_uri": "https://localhost:8080/"
        },
        "outputId": "4e802d24-922d-4857-d211-5d250d255afe"
      },
      "outputs": [
        {
          "output_type": "stream",
          "name": "stdout",
          "text": [
            "-9\n",
            "0\n",
            "Ответ: 0.33\n"
          ]
        }
      ],
      "source": [
        "def sgn(x):\n",
        "    if x > 0:\n",
        "      sgn = 1\n",
        "    elif x == 0:\n",
        "      sgn = 0\n",
        "    elif x < 0:\n",
        "      sgn = -1\n",
        "    return sgn\n",
        "x =  float(input())\n",
        "y = float(input())\n",
        "\n",
        "z = (sgn(x) + y**2)/(sgn(y)-(x**2)**(1/4))\n",
        "\n",
        "print(\"Ответ:\", round(z, 2))"
      ]
    },
    {
      "cell_type": "markdown",
      "source": [
        "№2"
      ],
      "metadata": {
        "id": "6vC7AGpdUdrR"
      }
    },
    {
      "cell_type": "code",
      "source": [
        "def avg(data):\n",
        "\n",
        "    cleaned = [x for x in data if x is not None]\n",
        "    return sum(cleaned) / len(cleaned) if cleaned else 0.0\n",
        "\n",
        "\n",
        "def cleared_data(data):\n",
        "\n",
        "    return [x for x in data if x is not None]\n",
        "\n",
        "\n",
        "def main():\n",
        "\n",
        "    n = int(input(\"Кол-во измерений: \"))\n",
        "    data = []\n",
        "    for i in range(n):\n",
        "        value = input(f\"Измерение {i+1}-е: \")\n",
        "        data.append(int(value) if value != '-' else None)\n",
        "\n",
        "\n",
        "    valid_data = cleared_data(data)\n",
        "    average = avg(valid_data)\n",
        "\n",
        "\n",
        "    print(f\"Средняя температура: {average:.2f}\")\n",
        "\n",
        "\n",
        "if __name__ == \"__main__\":\n",
        "    main()"
      ],
      "metadata": {
        "id": "H6HQwwMjUeGf",
        "colab": {
          "base_uri": "https://localhost:8080/"
        },
        "outputId": "048400bf-455c-427e-ca3d-44519463ad66"
      },
      "execution_count": 1,
      "outputs": [
        {
          "output_type": "stream",
          "name": "stdout",
          "text": [
            "Кол-во измерений: 3\n",
            "Измерение 1-е: 10\n",
            "Измерение 2-е: -\n",
            "Измерение 3-е: 20\n",
            "Средняя температура: 15.00\n"
          ]
        }
      ]
    },
    {
      "cell_type": "markdown",
      "source": [
        "№3"
      ],
      "metadata": {
        "id": "ZDRRM9aRUeiS"
      }
    },
    {
      "cell_type": "code",
      "source": [
        "def is_lucky(num):\n",
        "  chet = 0\n",
        "  nech = 0\n",
        "  for i in str(num):\n",
        "    if int(i) % 2 == 0:\n",
        "      chet +=1\n",
        "    else:\n",
        "      nech +=1\n",
        "  return chet == nech\n",
        "\n",
        "def lucky_numbers(a, b):\n",
        "  luck = []\n",
        "  for i in range (a, b+1):\n",
        "    if is_lucky(i):\n",
        "      luck.append(i)\n",
        "  return luck\n",
        "\n",
        "a = int(input())\n",
        "b = int(input())\n",
        "\n",
        "ans = lucky_numbers(a, b)\n",
        "\n",
        "print(ans)"
      ],
      "metadata": {
        "id": "tSxFHhdiUe4L",
        "colab": {
          "base_uri": "https://localhost:8080/"
        },
        "outputId": "2ace5217-18e8-4655-ab0d-c11676042517"
      },
      "execution_count": null,
      "outputs": [
        {
          "output_type": "stream",
          "name": "stdout",
          "text": [
            "10\n",
            "25\n",
            "[10, 12, 14, 16, 18, 21, 23, 25]\n"
          ]
        }
      ]
    },
    {
      "cell_type": "markdown",
      "source": [
        "№4"
      ],
      "metadata": {
        "id": "_piAfLoKUfI2"
      }
    },
    {
      "cell_type": "code",
      "source": [
        "def is_leap(year):\n",
        "\n",
        "    return year % 4 == 0 and (year % 100 != 0 or year % 400 == 0)\n",
        "\n",
        "\n",
        "def days(month, year):\n",
        "\n",
        "    if month == 2:\n",
        "        return 29 if is_leap(year) else 28\n",
        "    return [31,28,31,30,31,30,31,31,30,31,30,31][month-1]\n",
        "\n",
        "\n",
        "def previous_date(day, month, year):\n",
        "\n",
        "    if day > 1:\n",
        "        return (day-1, month, year)\n",
        "\n",
        "    if month == 1:\n",
        "        return (31, 12, year-1)\n",
        "\n",
        "    prev_month = month - 1\n",
        "    return (days(prev_month, year), prev_month, year)\n",
        "\n",
        "\n",
        "def next_date(day, month, year):\n",
        "\n",
        "    max_days = days(month, year)\n",
        "\n",
        "    if day < max_days:\n",
        "        return (day+1, month, year)\n",
        "\n",
        "    if month == 12:\n",
        "        return (1, 1, year+1)\n",
        "\n",
        "    return (1, month+1, year)\n",
        "\n",
        "\n",
        "def main():\n",
        "\n",
        "    date = input(\"День, месяц, год через пробел: \").split()\n",
        "    day, month, year = map(int, date)\n",
        "\n",
        "    prev = previous_date(day, month, year)\n",
        "    next_day = next_date(day, month, year)\n",
        "\n",
        "    print(f\"Предыдущий день: {prev[0]:02d}/{prev[1]:02d}/{prev[2]}\")\n",
        "    print(f\"Следующий день: {next_day[0]:02d}/{next_day[1]:02d}/{next_day[2]}\")\n",
        "\n",
        "\n",
        "if __name__ == \"__main__\":\n",
        "    main()"
      ],
      "metadata": {
        "id": "GFxj8kozUfh-",
        "colab": {
          "base_uri": "https://localhost:8080/"
        },
        "outputId": "40766d2b-61fc-44f6-aafa-20f5dedce0bc"
      },
      "execution_count": 2,
      "outputs": [
        {
          "output_type": "stream",
          "name": "stdout",
          "text": [
            "День, месяц, год через пробел: 1 3 2000\n",
            "Предыдущий день: 29/02/2000\n",
            "Следующий день: 02/03/2000\n"
          ]
        }
      ]
    },
    {
      "cell_type": "markdown",
      "source": [
        "№5"
      ],
      "metadata": {
        "id": "a2x4hOlzUf4s"
      }
    },
    {
      "cell_type": "code",
      "source": [
        "def is_leap(year):\n",
        "\n",
        "    return year % 4 == 0 and (year % 100 != 0 or year % 400 == 0)\n",
        "\n",
        "\n",
        "def days(month, year):\n",
        "\n",
        "    if month == 2:\n",
        "        return 29 if is_leap(year) else 28\n",
        "    return [31,28,31,30,31,30,31,31,30,31,30,31][month-1]\n",
        "\n",
        "\n",
        "def another_date(day, month, year, delta=1):\n",
        "\n",
        "\n",
        "    def previous_date(d, m, y):\n",
        "\n",
        "        if d > 1:\n",
        "            return (d-1, m, y)\n",
        "        if m == 1:\n",
        "            return (31, 12, y-1)\n",
        "        prev_month = m - 1\n",
        "        return (days(prev_month, y), prev_month, y)\n",
        "\n",
        "    def next_date(d, m, y):\n",
        "\n",
        "        max_d = days(m, y)\n",
        "        if d < max_d:\n",
        "            return (d+1, m, y)\n",
        "        if m == 12:\n",
        "            return (1, 1, y+1)\n",
        "        return (1, m+1, y)\n",
        "\n",
        "    current_date = (day, month, year)\n",
        "    step = 1 if delta > 0 else -1\n",
        "    iterations = abs(delta)\n",
        "\n",
        "    for _ in range(iterations):\n",
        "        if delta > 0:\n",
        "            current_date = next_date(*current_date)\n",
        "        else:\n",
        "            current_date = previous_date(*current_date)\n",
        "\n",
        "    return current_date\n",
        "\n",
        "def main():\n",
        "\n",
        "    date_input = input(\"День, месяц, год через пробел: \").split()\n",
        "    day, month, year = map(int, date_input)\n",
        "    delta = int(input(\"Сдвиг (может быть отрицательным): \"))\n",
        "\n",
        "    new_date = another_date(day, month, year, delta)\n",
        "    print(f\"Новый день: {new_date[0]:02d}/{new_date[1]:02d}/{new_date[2]}\")\n",
        "\n",
        "\n",
        "if __name__ == \"__main__\":\n",
        "    main()"
      ],
      "metadata": {
        "id": "YeoJJqo6UgUf",
        "colab": {
          "base_uri": "https://localhost:8080/"
        },
        "outputId": "925971f6-947c-42b7-9cf2-381776a8ad29"
      },
      "execution_count": 5,
      "outputs": [
        {
          "output_type": "stream",
          "name": "stdout",
          "text": [
            "День, месяц, год через пробел: 1 1 2000\n",
            "Сдвиг (может быть отрицательным): 2\n",
            "Новый день: 03/01/2000\n"
          ]
        }
      ]
    },
    {
      "cell_type": "markdown",
      "source": [
        "№6"
      ],
      "metadata": {
        "id": "x9FgAw_0Ugtu"
      }
    },
    {
      "cell_type": "code",
      "source": [
        "def gcd(first, second):\n",
        "\n",
        "    while second != 0:\n",
        "        first, second = second, first % second\n",
        "    return abs(first)\n",
        "\n",
        "\n",
        "def lcm(first, second):\n",
        "\n",
        "    if first == 0 or second == 0:\n",
        "        return 0\n",
        "    return abs(first * second) // gcd(first, second)\n",
        "\n",
        "\n",
        "def gcd_nums(nums):\n",
        "\n",
        "    if not nums:\n",
        "        return 0\n",
        "    current_gcd = nums[0]\n",
        "    for num in nums[1:]:\n",
        "        current_gcd = gcd(current_gcd, num)\n",
        "    return current_gcd\n",
        "\n",
        "\n",
        "def lcm_nums(nums):\n",
        "\n",
        "    if not nums:\n",
        "        return 0\n",
        "    current_lcm = nums[0]\n",
        "    for num in nums[1:]:\n",
        "        current_lcm = lcm(current_lcm, num)\n",
        "    return current_lcm\n",
        "\n",
        "\n",
        "def main():\n",
        "\n",
        "    nums = list(map(int, input(\"Введите числа через пробел: \").split()))\n",
        "\n",
        "    gcd_result = gcd_nums(nums)\n",
        "    lcm_result = lcm_nums(nums)\n",
        "\n",
        "    print(f\"НОД = {gcd_result}\")\n",
        "    print(f\"НОК = {lcm_result}\")\n",
        "\n",
        "\n",
        "if __name__ == \"__main__\":\n",
        "    main()"
      ],
      "metadata": {
        "id": "jc-wZFRaUhFC",
        "colab": {
          "base_uri": "https://localhost:8080/"
        },
        "outputId": "d6033dd1-b064-4bcd-825d-d8f1e6339a72"
      },
      "execution_count": 6,
      "outputs": [
        {
          "output_type": "stream",
          "name": "stdout",
          "text": [
            "Введите числа через пробел: 8 10 14\n",
            "НОД = 2\n",
            "НОК = 280\n"
          ]
        }
      ]
    },
    {
      "cell_type": "markdown",
      "source": [
        "№7"
      ],
      "metadata": {
        "id": "ZPQ-xU9GUhad"
      }
    },
    {
      "cell_type": "code",
      "source": [
        "def has_digits(sentence):\n",
        "  for i in sentence:\n",
        "    if i.isdigit():\n",
        "      return True\n",
        "  return False\n",
        "\n",
        "def sentences_with_digits_count(sentences):\n",
        "  count = 0\n",
        "  for i in sentences:\n",
        "    if has_digits(i):\n",
        "      count +=1\n",
        "  return count\n",
        "\n",
        "n = int(input())\n",
        "sentences = [input(f\"Введите предложение №{i + 1}: \") for i in range(n)]\n",
        "\n",
        "res = sentences_with_digits_count(sentences)\n",
        "\n",
        "print(res)"
      ],
      "metadata": {
        "id": "KOZkEEk3Uh6_",
        "colab": {
          "base_uri": "https://localhost:8080/"
        },
        "outputId": "8eb7433d-ed23-4c67-d8b8-d25f096dc83f"
      },
      "execution_count": null,
      "outputs": [
        {
          "output_type": "stream",
          "name": "stdout",
          "text": [
            "3\n",
            "Введите предложение №1: просто текст\n",
            "Введите предложение №2: текст с 1 цифрой\n",
            "Введите предложение №3: нет цифры\n",
            "1\n"
          ]
        }
      ]
    },
    {
      "cell_type": "markdown",
      "source": [
        "№8"
      ],
      "metadata": {
        "id": "Gr9nOy3XUiL1"
      }
    },
    {
      "cell_type": "code",
      "source": [
        "def print_with_border(string, char):\n",
        "\n",
        "    border_char = char[0] if char else '*'\n",
        "    border = border_char * (len(string) + 2)\n",
        "    middle = f\"{border_char}{string}{border_char}\"\n",
        "\n",
        "    print(border)\n",
        "    print(middle)\n",
        "    print(border)\n",
        "\n",
        "\n",
        "def main():\n",
        "\n",
        "    s = input(\"Введите строку: \")\n",
        "    k = input(\"Введите символ: \")\n",
        "\n",
        "\n",
        "    print_with_border(s, k)\n",
        "\n",
        "\n",
        "if __name__ == \"__main__\":\n",
        "    main()"
      ],
      "metadata": {
        "id": "pggmglXpUimO",
        "colab": {
          "base_uri": "https://localhost:8080/"
        },
        "outputId": "38a7d838-539d-4276-e305-6533a9d8ad8e"
      },
      "execution_count": 7,
      "outputs": [
        {
          "output_type": "stream",
          "name": "stdout",
          "text": [
            "Введите строку: просто текст\n",
            "Введите символ: *\n",
            "**************\n",
            "*просто текст*\n",
            "**************\n"
          ]
        }
      ]
    },
    {
      "cell_type": "markdown",
      "source": [
        "№9"
      ],
      "metadata": {
        "id": "0rsKjqjTUjBl"
      }
    },
    {
      "cell_type": "code",
      "source": [
        "LETTERS_EX = {10: \"A\", 11: \"B\", 12: \"C\", 13: \"D\", 14: \"E\", 15: \"F\"}\n",
        "DIGITS_EX = {\"A\": 10, \"B\": 11, \"C\": 12, \"D\": 13, \"E\": 14, \"F\": 15}\n",
        "\n",
        "\n",
        "def to_base(number, base):\n",
        "    if number == 0:\n",
        "        return \"0\"\n",
        "\n",
        "    result = \"\"\n",
        "\n",
        "    while number > 0:\n",
        "        r = number % base\n",
        "        if r >= 10:\n",
        "          result = LETTER_EX[r] + result\n",
        "        else:\n",
        "          result = str(r) + result\n",
        "        number //= base\n",
        "\n",
        "    return result\n",
        "\n",
        "def from_base(number, base):\n",
        "    number = str(number).upper()\n",
        "    result = 0\n",
        "\n",
        "    for idx, digit in enumerate(reversed(number)):\n",
        "        if digit.isdigit():\n",
        "            value = int(digit)\n",
        "        else:\n",
        "            value = DIGITS_EX[digit]\n",
        "        result += value * (base ** idx)\n",
        "\n",
        "    return result\n",
        "\n",
        "base = int(input())\n",
        "number = int(input())\n",
        "a = from_base(number,base)\n",
        "b = to_base(number,base)\n",
        "\n",
        "print(a)\n",
        "print(b)"
      ],
      "metadata": {
        "id": "BDRfpnoMUjZi",
        "colab": {
          "base_uri": "https://localhost:8080/"
        },
        "outputId": "125471ad-564c-4f66-9b66-c6c36c79b26d"
      },
      "execution_count": null,
      "outputs": [
        {
          "output_type": "stream",
          "name": "stdout",
          "text": [
            "2\n",
            "10\n",
            "2\n",
            "1010\n"
          ]
        }
      ]
    },
    {
      "cell_type": "markdown",
      "source": [
        "№10"
      ],
      "metadata": {
        "id": "B8HFFgfkU2ft"
      }
    },
    {
      "cell_type": "code",
      "source": [
        "def sentence_stats(sentence):\n",
        "\n",
        "    stats = {}\n",
        "    for char in sentence.lower():\n",
        "        stats[char] = stats.get(char, 0) + 1\n",
        "    return stats\n",
        "\n",
        "\n",
        "def main():\n",
        "\n",
        "    s = input(\"Введите предложение: \")\n",
        "    result = sentence_stats(s)\n",
        "    print(result)\n",
        "\n",
        "\n",
        "if __name__ == \"__main__\":\n",
        "    main()"
      ],
      "metadata": {
        "id": "mzhxxQmWU5Js",
        "colab": {
          "base_uri": "https://localhost:8080/"
        },
        "outputId": "d0ab6099-1508-4ebd-9686-3820a3190df5"
      },
      "execution_count": 8,
      "outputs": [
        {
          "output_type": "stream",
          "name": "stdout",
          "text": [
            "Введите предложение: мама МЫла РамУ\n",
            "{'м': 4, 'а': 4, ' ': 2, 'ы': 1, 'л': 1, 'р': 1, 'у': 1}\n"
          ]
        }
      ]
    },
    {
      "cell_type": "markdown",
      "source": [
        "№11"
      ],
      "metadata": {
        "id": "VLmERxm0U3mW"
      }
    },
    {
      "cell_type": "code",
      "source": [
        "def create_alphabet():\n",
        "    lower_letters = [chr(i) for i in range(ord('а'), ord('я') + 1)]\n",
        "    upper_letters = [chr(i) for i in range(ord('А'), ord('Я') + 1)]\n",
        "    return lower_letters, upper_letters\n",
        "\n",
        "def caesar(text, shift):\n",
        "    lower_letters, upper_letters = create_alphabet()\n",
        "    encrypted_text = []\n",
        "\n",
        "    for i in text:\n",
        "        if i in lower_letters:\n",
        "            new = (lower_letters.index(i) + shift) % len(lower_letters)\n",
        "            encrypted_text.append(lower_letters[new])\n",
        "        elif i in upper_letters:\n",
        "            new = (upper_letters.index(i) + shift) % len(upper_letters)\n",
        "            encrypted_text.append(upper_letters[new])\n",
        "        else:\n",
        "            encrypted_text.append(i)\n",
        "\n",
        "    return ''.join(encrypted_text)\n",
        "\n",
        "def caesar_de(text, shift):\n",
        "    return caesar(caesar(text,shift), -shift)\n",
        "text = str(input())\n",
        "shift = int(input())\n",
        "\n",
        "encoded = caesar (text, shift)\n",
        "decoded = caesar_de (text, shift)\n",
        "print(\"Зашифрованная строка:\", encoded)\n",
        "print(\"Расшифрованная строка:\", decoded)\n"
      ],
      "metadata": {
        "colab": {
          "base_uri": "https://localhost:8080/"
        },
        "id": "ErsdY1WJ8Ng3",
        "outputId": "61ae8c8b-542e-45bf-da51-0124cb09dcd4"
      },
      "execution_count": null,
      "outputs": [
        {
          "output_type": "stream",
          "name": "stdout",
          "text": [
            "ПрограММиРОВание С++\n",
            "4\n",
            "Зашифрованная строка: УфтзфдРРмФТЖдсмй Х++\n",
            "Расшифрованная строка: ПрограММиРОВание С++\n"
          ]
        }
      ]
    },
    {
      "cell_type": "markdown",
      "source": [
        "№12"
      ],
      "metadata": {
        "id": "_bRNaptRU6Pw"
      }
    },
    {
      "cell_type": "code",
      "source": [
        "data = [\n",
        "    {1: 'м', 2: 'м', 3: 'м', 4: 'ж'},\n",
        "    {1: 'ж', 2: 'м', 3: 'ж', 4: 'ж'},\n",
        "    {1: 'ж', 2: 'ж', 3: 'ж', 4: 'ж'},\n",
        "    {1: 'м', 2: 'м', 3: 'м', 4: 'м'},\n",
        "    {1: None, 2: None, 3: None, 4: None},\n",
        "    {1: 'м', 2: None, 3: None, 4: 'ж'},\n",
        "    {1: None, 2: None, 3: None, 4: None},\n",
        "    {1: 'м', 2: 'м', 3: None, 4: 'м'},\n",
        "    {1: 'ж', 2: None, 3: None, 4: 'ж'}\n",
        "]\n",
        "\n",
        "def vacant_compartments(data):\n",
        "\n",
        "    return [\n",
        "        i + 1 for i, compartment in enumerate(data)\n",
        "        if all(v is None for v in compartment.values())\n",
        "    ]\n",
        "\n",
        "def vacant_seats(data, compartments_condition=None, seat_condition=None):\n",
        "\n",
        "    result = []\n",
        "    for comp_num, compartment in enumerate(data, 1):\n",
        "\n",
        "        if compartments_condition and not compartments_condition(compartment):\n",
        "            continue\n",
        "\n",
        "        for seat, value in compartment.items():\n",
        "            if value is None:\n",
        "                if seat_condition is None or seat_condition(seat, value):\n",
        "                    result.append((comp_num, seat))\n",
        "    return result\n",
        "\n",
        "def is_same_sex_and_vacant(compartment, sex):\n",
        "\n",
        "    occupied = [v for v in compartment.values() if v is not None]\n",
        "    has_vacant = any(v is None for v in compartment.values())\n",
        "    return len(occupied) > 0 and all(g == sex for g in occupied) and has_vacant\n",
        "\n",
        "# Результаты\n",
        "print(\"Список полностью свободных купе:\", vacant_compartments(data))\n",
        "print(\"Свободные места:\", vacant_seats(data))\n",
        "print(\"Свободные нижние места:\", vacant_seats(data, seat_condition=lambda s, _: s % 2 == 1))\n",
        "print(\"Свободные верхние места:\", vacant_seats(data, seat_condition=lambda s, _: s % 2 == 0))\n",
        "print(\"Свободные места в мужских купе:\", vacant_seats(data, lambda c: is_same_sex_and_vacant(c, \"м\")))\n",
        "print(\"Свободные места в женских купе:\", vacant_seats(data, lambda c: is_same_sex_and_vacant(c, \"ж\")))"
      ],
      "metadata": {
        "id": "nVtyY09OU71U",
        "colab": {
          "base_uri": "https://localhost:8080/"
        },
        "outputId": "89ec25b6-1238-4e19-f372-d860ad21c663"
      },
      "execution_count": 9,
      "outputs": [
        {
          "output_type": "stream",
          "name": "stdout",
          "text": [
            "Список полностью свободных купе: [5, 7]\n",
            "Свободные места: [(5, 1), (5, 2), (5, 3), (5, 4), (6, 2), (6, 3), (7, 1), (7, 2), (7, 3), (7, 4), (8, 3), (9, 2), (9, 3)]\n",
            "Свободные нижние места: [(5, 1), (5, 3), (6, 3), (7, 1), (7, 3), (8, 3), (9, 3)]\n",
            "Свободные верхние места: [(5, 2), (5, 4), (6, 2), (7, 2), (7, 4), (9, 2)]\n",
            "Свободные места в мужских купе: [(8, 3)]\n",
            "Свободные места в женских купе: [(9, 2), (9, 3)]\n"
          ]
        }
      ]
    },
    {
      "cell_type": "markdown",
      "source": [
        "№13"
      ],
      "metadata": {
        "id": "aLmJ-R3kU8QU"
      }
    },
    {
      "cell_type": "code",
      "source": [
        "votes = [\n",
        "    2, 3, -1, 2, 5, 1, 1, 4, 1, 1, 1, 3, 1, 3, 5, -1, 5, 2, 5, 5,\n",
        "    3, 3, 2, 3, 3, 2, 2, 1, 3, 2, 5, 2, 2, 4, 1, 1, 3, 2, 2, 3, 3,\n",
        "    3, 1, 4, 2, 1, 4, 2, 3, 3, 3, -1, 5, 3, 1, 4, 5, 1, 1, 3, 3,\n",
        "    3, -1, 5, 3, 3, 2, 5, 1, 1, 5, -1, 1, 2, 2, 3, -1, 4, 2, 5, 4,\n",
        "    2, -1, 3, 1, 4, 3, 5, 4, 1, 5, 3, 2, 4, 2, 1, 3, 4, 1, 1, 3, 4\n",
        "]\n",
        "\n",
        "parties = {\n",
        "    1: \"Партия №1\", 2: \"Партия №2\", 3: \"Партия №3\",\n",
        "    4: \"Партия №4\", 5: \"Партия №5\", -1: \"Испорчено\"\n",
        "}\n",
        "\n",
        "\n",
        "def parties_votes(votes):\n",
        "    vote_count = {i: 0 for i in range(1, 6)}\n",
        "    total_votes = 0\n",
        "\n",
        "    for vote in votes:\n",
        "        if vote in vote_count:\n",
        "            vote_count[vote] += 1\n",
        "            total_votes += 1\n",
        "        elif vote == -1:\n",
        "            continue\n",
        "\n",
        "    results = []\n",
        "    for party, count in vote_count.items():\n",
        "        if total_votes > 0:\n",
        "            percentage = (count / total_votes) * 100\n",
        "        else:\n",
        "            percentage = 0\n",
        "        results.append((party, count, percentage))\n",
        "\n",
        "    results.sort(key=lambda x: x[1], reverse=True)\n",
        "\n",
        "    for party, count, percentage in results:\n",
        "        print(f\"Партия Nº{party} | {count} | {percentage:.2f}%\")\n",
        "\n",
        "parties_votes(votes)\n",
        "\n"
      ],
      "metadata": {
        "colab": {
          "base_uri": "https://localhost:8080/"
        },
        "id": "h3v2GI5WUdqE",
        "outputId": "4708b774-bb0e-477a-daf3-2344c25bb393"
      },
      "execution_count": null,
      "outputs": [
        {
          "output_type": "stream",
          "name": "stdout",
          "text": [
            "Партия Nº3 | 27 | 28.42%\n",
            "Партия Nº1 | 22 | 23.16%\n",
            "Партия Nº2 | 20 | 21.05%\n",
            "Партия Nº5 | 14 | 14.74%\n",
            "Партия Nº4 | 12 | 12.63%\n"
          ]
        }
      ]
    },
    {
      "cell_type": "markdown",
      "source": [
        "№14"
      ],
      "metadata": {
        "id": "E7za9G4wU913"
      }
    },
    {
      "cell_type": "code",
      "source": [
        "def split_numbers(*args):\n",
        "\n",
        "    negatives = sorted((num for num in args if num < 0), reverse=True)\n",
        "    non_negatives = sorted((num for num in args if num >= 0))\n",
        "    return (negatives, non_negatives)\n",
        "\n",
        "\n",
        "print(split_numbers(1, 4, -5, 0, -33))\n"
      ],
      "metadata": {
        "id": "ApfEdJwDU-3R",
        "colab": {
          "base_uri": "https://localhost:8080/"
        },
        "outputId": "c17e2c05-08e3-4e50-b20f-74b4cec18215"
      },
      "execution_count": 10,
      "outputs": [
        {
          "output_type": "stream",
          "name": "stdout",
          "text": [
            "([-5, -33], [0, 1, 4])\n"
          ]
        }
      ]
    },
    {
      "cell_type": "markdown",
      "source": [
        "№15"
      ],
      "metadata": {
        "id": "dXtAfbuLU_op"
      }
    },
    {
      "cell_type": "code",
      "source": [
        "values = []\n",
        "keys = ['c', 'i', 'g', 'ex', 'im']\n",
        "data_dict = {}\n",
        "\n",
        "for a in keys:\n",
        "  value = int(input(f\"значение для {a}: \"))\n",
        "  values.append(value)\n",
        "  data_dict[a] = value\n",
        "\n",
        "def gdp(c, i, g, ex, im):\n",
        "  return c + i + g + ex - im\n",
        "\n",
        "c, i, g, ex, im = values\n",
        "\n",
        "gdp = gdp(**data_dict)\n",
        "\n",
        "print(gdp)"
      ],
      "metadata": {
        "id": "oLwGNOsoVA2U",
        "colab": {
          "base_uri": "https://localhost:8080/"
        },
        "outputId": "4621ad71-4684-4bf5-c6f7-0c432e3bfa46"
      },
      "execution_count": null,
      "outputs": [
        {
          "output_type": "stream",
          "name": "stdout",
          "text": [
            "значение для c: 100\n",
            "значение для i: 200\n",
            "значение для g: 300\n",
            "значение для ex: 400\n",
            "значение для im: 500\n",
            "500\n"
          ]
        }
      ]
    },
    {
      "cell_type": "markdown",
      "source": [
        "№16"
      ],
      "metadata": {
        "id": "-HG-4S1fVBTu"
      }
    },
    {
      "cell_type": "code",
      "source": [
        "def pow1(value, power):\n",
        "\n",
        "    result = 1\n",
        "    for _ in range(power):\n",
        "        result *= value\n",
        "    return result\n",
        "\n",
        "\n",
        "def pow2(value, power):\n",
        "\n",
        "    if power == 0:\n",
        "        return 1\n",
        "    return value * pow2(value, power - 1)\n",
        "\n",
        "\n",
        "print(pow1(5, 3))\n",
        "print(pow2(5, 3))\n",
        "\n"
      ],
      "metadata": {
        "id": "A4ietl22VCfK",
        "colab": {
          "base_uri": "https://localhost:8080/"
        },
        "outputId": "99256df4-3c81-4e86-8542-1212052792a7"
      },
      "execution_count": 11,
      "outputs": [
        {
          "output_type": "stream",
          "name": "stdout",
          "text": [
            "125\n",
            "125\n"
          ]
        }
      ]
    },
    {
      "cell_type": "markdown",
      "source": [
        "№17"
      ],
      "metadata": {
        "id": "avZM0ZwxVC2m"
      }
    },
    {
      "cell_type": "code",
      "source": [
        "def digits_sum(value):\n",
        "    if value == 0:\n",
        "        return 0\n",
        "    else:\n",
        "        return value % 10 + digits_sum(value // 10)\n",
        "\n",
        "def digits_count(value):\n",
        "    if value == 0:\n",
        "        return 0\n",
        "    else:\n",
        "        return 1 + digits_count(value // 10)\n",
        "\n",
        "print(digits_sum(12345))\n",
        "print(digits_count(12345))"
      ],
      "metadata": {
        "id": "u_fR1BV0VECu",
        "colab": {
          "base_uri": "https://localhost:8080/"
        },
        "outputId": "2e168bd9-e5b8-435d-8c2f-24d9100f8a60"
      },
      "execution_count": null,
      "outputs": [
        {
          "output_type": "stream",
          "name": "stdout",
          "text": [
            "15\n",
            "5\n"
          ]
        }
      ]
    }
  ]
}