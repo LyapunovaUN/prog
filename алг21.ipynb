{
  "nbformat": 4,
  "nbformat_minor": 0,
  "metadata": {
    "colab": {
      "provenance": [],
      "authorship_tag": "ABX9TyPnZrWAQ/scibuJ2NLJCuDK",
      "include_colab_link": true
    },
    "kernelspec": {
      "name": "python3",
      "display_name": "Python 3"
    },
    "language_info": {
      "name": "python"
    }
  },
  "cells": [
    {
      "cell_type": "markdown",
      "metadata": {
        "id": "view-in-github",
        "colab_type": "text"
      },
      "source": [
        "<a href=\"https://colab.research.google.com/github/LyapunovaUN/prog/blob/main/%D0%B0%D0%BB%D0%B321.ipynb\" target=\"_parent\"><img src=\"https://colab.research.google.com/assets/colab-badge.svg\" alt=\"Open In Colab\"/></a>"
      ]
    },
    {
      "cell_type": "code",
      "source": [
        "def create_adjacency_matrix(edges, num_vertices):\n",
        "    \"\"\"Создание матрицы смежности\"\"\"\n",
        "    adjacency_matrix = [[0 for _ in range(num_vertices)] for _ in range(num_vertices)]\n",
        "    for u, v in edges:\n",
        "        adjacency_matrix[u-1][v-1] = 1\n",
        "        adjacency_matrix[v-1][u-1] = 1\n",
        "    return adjacency_matrix\n",
        "\n",
        "def create_incidence_matrix(edges, num_vertices):\n",
        "    \"\"\"Создание матрицы инцидентности\"\"\"\n",
        "    num_edges = len(edges)\n",
        "    incidence_matrix = [[0 for _ in range(num_edges)] for _ in range(num_vertices)]\n",
        "    for edge_index, (u, v) in enumerate(edges):\n",
        "        incidence_matrix[u-1][edge_index] = 1\n",
        "        incidence_matrix[v-1][edge_index] = 1\n",
        "    return incidence_matrix\n",
        "\n",
        "def find_connected_components(adjacency_matrix):\n",
        "    \"\"\"Поиск компонент связности с использованием DFS\"\"\"\n",
        "    num_vertices = len(adjacency_matrix)\n",
        "    visited = [False] * num_vertices\n",
        "    components = []\n",
        "\n",
        "    def dfs(vertex, current_component):\n",
        "        visited[vertex] = True\n",
        "        current_component.append(vertex + 1)\n",
        "        for neighbor in range(num_vertices):\n",
        "            if adjacency_matrix[vertex][neighbor] == 1 and not visited[neighbor]:\n",
        "                dfs(neighbor, current_component)\n",
        "\n",
        "    for vertex in range(num_vertices):\n",
        "        if not visited[vertex]:\n",
        "            current_component = []\n",
        "            dfs(vertex, current_component)\n",
        "            components.append(current_component)\n",
        "\n",
        "    return components\n",
        "\n",
        "if __name__ == \"__main__\":\n",
        "    edges = [(1, 2), (1, 3), (2, 4), (3, 4), (4, 5), (6, 7)]\n",
        "    num_vertices = 7\n",
        "\n",
        "    # 1. Матрица смежности\n",
        "    adj_matrix = create_adjacency_matrix(edges, num_vertices)\n",
        "    print(\"Матрица смежности:\")\n",
        "    for row in adj_matrix:\n",
        "        print(row)\n",
        "\n",
        "    # 2. Матрица инцидентности\n",
        "    inc_matrix = create_incidence_matrix(edges, num_vertices)\n",
        "    print(\"\\nМатрица инцидентности:\")\n",
        "    for row in inc_matrix:\n",
        "        print(row)\n",
        "\n",
        "    # 3. Компоненты связности\n",
        "    components = find_connected_components(adj_matrix)\n",
        "    print(\"\\nКомпоненты связности графа:\")\n",
        "    for i, comp in enumerate(components, 1):\n",
        "        print(f\"Компонента {i}: {comp}\")"
      ],
      "metadata": {
        "colab": {
          "base_uri": "https://localhost:8080/"
        },
        "id": "eC-Q1ngkd3iJ",
        "outputId": "cf1c688b-41fe-4214-9ab2-48a15b3b69c3"
      },
      "execution_count": null,
      "outputs": [
        {
          "output_type": "stream",
          "name": "stdout",
          "text": [
            "Матрица смежности:\n",
            "[0, 1, 1, 0, 0, 0, 0]\n",
            "[1, 0, 0, 1, 0, 0, 0]\n",
            "[1, 0, 0, 1, 0, 0, 0]\n",
            "[0, 1, 1, 0, 1, 0, 0]\n",
            "[0, 0, 0, 1, 0, 0, 0]\n",
            "[0, 0, 0, 0, 0, 0, 1]\n",
            "[0, 0, 0, 0, 0, 1, 0]\n",
            "\n",
            "Матрица инцидентности:\n",
            "[1, 1, 0, 0, 0, 0]\n",
            "[1, 0, 1, 0, 0, 0]\n",
            "[0, 1, 0, 1, 0, 0]\n",
            "[0, 0, 1, 1, 1, 0]\n",
            "[0, 0, 0, 0, 1, 0]\n",
            "[0, 0, 0, 0, 0, 1]\n",
            "[0, 0, 0, 0, 0, 1]\n",
            "\n",
            "Компоненты связности графа:\n",
            "Компонента 1: [1, 2, 4, 3, 5]\n",
            "Компонента 2: [6, 7]\n"
          ]
        }
      ]
    }
  ]
}